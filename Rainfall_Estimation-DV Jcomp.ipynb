{
  "nbformat": 4,
  "nbformat_minor": 0,
  "metadata": {
    "colab": {
      "provenance": []
    },
    "kernelspec": {
      "name": "python3",
      "display_name": "Python 3"
    },
    "language_info": {
      "name": "python"
    }
  },
  "cells": [
    {
      "cell_type": "code",
      "execution_count": 1,
      "metadata": {
        "id": "F0mwDXAwK4VK"
      },
      "outputs": [],
      "source": [
        "# Import the libraries\n",
        "import warnings\n",
        "\n",
        "import math\n",
        "import numpy as np\n",
        "import pandas as pd\n",
        "import matplotlib.pyplot as plt\n",
        "import seaborn as sns\n",
        "from sklearn.preprocessing import StandardScaler\n",
        "from sklearn.linear_model import LinearRegression\n",
        "from sklearn.neural_network import MLPRegressor\n",
        "from sklearn.neighbors import KNeighborsRegressor\n",
        "from sklearn.linear_model import Ridge\n",
        "from sklearn.metrics import mean_absolute_error, mean_squared_error\n",
        "from sklearn.model_selection import train_test_split, cross_val_score\n",
        "%matplotlib inline\n",
        "\n",
        "warnings.simplefilter(action = \"ignore\", category = FutureWarning)\n"
      ]
    },
    {
      "cell_type": "code",
      "source": [
        "# Load the clean version of the dataset\n",
        "# Assign to a dataframe\n",
        "# Perform feature selection:\n",
        "df_rainfall = pd.read_csv(\"austin_weather_clean.csv\")\n",
        "df_rainfall.drop(columns = [\"DewPointHighF\", \"DewPointLowF\",\"Date\"], inplace = True)"
      ],
      "metadata": {
        "id": "a1QC7SgULghk"
      },
      "execution_count": 44,
      "outputs": []
    },
    {
      "cell_type": "markdown",
      "source": [
        "DATA EXPLORATION"
      ],
      "metadata": {
        "id": "KJTOdImCOrUe"
      }
    },
    {
      "cell_type": "code",
      "source": [
        "# Explore the dataframe; the first 10 rows\n",
        "df_rainfall.head(10)"
      ],
      "metadata": {
        "colab": {
          "base_uri": "https://localhost:8080/",
          "height": 444
        },
        "id": "glfkWiqPLrbL",
        "outputId": "e5010ccd-3282-4af6-83b5-f822e74913d8"
      },
      "execution_count": 45,
      "outputs": [
        {
          "output_type": "execute_result",
          "data": {
            "text/plain": [
              "   Unnamed: 0  TempHighF  TempAvgF  TempLowF  DewPointAvgF  \\\n",
              "0           0         74        60        45            49   \n",
              "1           1         56        48        39            36   \n",
              "2           2         58        45        32            27   \n",
              "3           3         61        46        31            28   \n",
              "4           4         58        50        41            40   \n",
              "5           5         57        48        39            36   \n",
              "6           6         60        53        45            39   \n",
              "7           7         62        51        40            39   \n",
              "8           8         64        50        36            41   \n",
              "9           9         44        40        35            26   \n",
              "\n",
              "   HumidityHighPercent  HumidityAvgPercent  HumidityLowPercent  \\\n",
              "0                   93                  75                  57   \n",
              "1                   93                  68                  43   \n",
              "2                   76                  52                  27   \n",
              "3                   89                  56                  22   \n",
              "4                   86                  71                  56   \n",
              "5                   79                  63                  47   \n",
              "6                   83                  65                  47   \n",
              "7                   92                  64                  36   \n",
              "8                   92                  76                  60   \n",
              "9                   75                  60                  45   \n",
              "\n",
              "   SeaLevelPressureAvgInches  VisibilityHighMiles  VisibilityAvgMiles  \\\n",
              "0                      29.68                   10                   7   \n",
              "1                      30.13                   10                  10   \n",
              "2                      30.49                   10                  10   \n",
              "3                      30.45                   10                  10   \n",
              "4                      30.33                   10                  10   \n",
              "5                      30.40                   10                   9   \n",
              "6                      30.39                   10                   9   \n",
              "7                      30.17                   10                  10   \n",
              "8                      30.10                   10                  10   \n",
              "9                      30.33                   10                  10   \n",
              "\n",
              "   VisibilityLowMiles  WindHighMPH  WindAvgMPH  WindGustMPH  \\\n",
              "0                   2           20           4           31   \n",
              "1                   5           16           6           25   \n",
              "2                  10            8           3           12   \n",
              "3                   7           12           4           20   \n",
              "4                   7           10           2           16   \n",
              "5                   7           12           3           17   \n",
              "6                   7            7           1           11   \n",
              "7                   7           10           2           14   \n",
              "8                   4           17           5           24   \n",
              "9                  10           13           5           21   \n",
              "\n",
              "   PrecipitationSumInches  \n",
              "0                    0.46  \n",
              "1                    0.00  \n",
              "2                    0.00  \n",
              "3                    0.00  \n",
              "4                    0.00  \n",
              "5                    0.00  \n",
              "6                    0.00  \n",
              "7                    0.00  \n",
              "8                    0.00  \n",
              "9                    0.00  "
            ],
            "text/html": [
              "\n",
              "  <div id=\"df-49b85a29-f93a-4315-99af-823499175a2f\">\n",
              "    <div class=\"colab-df-container\">\n",
              "      <div>\n",
              "<style scoped>\n",
              "    .dataframe tbody tr th:only-of-type {\n",
              "        vertical-align: middle;\n",
              "    }\n",
              "\n",
              "    .dataframe tbody tr th {\n",
              "        vertical-align: top;\n",
              "    }\n",
              "\n",
              "    .dataframe thead th {\n",
              "        text-align: right;\n",
              "    }\n",
              "</style>\n",
              "<table border=\"1\" class=\"dataframe\">\n",
              "  <thead>\n",
              "    <tr style=\"text-align: right;\">\n",
              "      <th></th>\n",
              "      <th>Unnamed: 0</th>\n",
              "      <th>TempHighF</th>\n",
              "      <th>TempAvgF</th>\n",
              "      <th>TempLowF</th>\n",
              "      <th>DewPointAvgF</th>\n",
              "      <th>HumidityHighPercent</th>\n",
              "      <th>HumidityAvgPercent</th>\n",
              "      <th>HumidityLowPercent</th>\n",
              "      <th>SeaLevelPressureAvgInches</th>\n",
              "      <th>VisibilityHighMiles</th>\n",
              "      <th>VisibilityAvgMiles</th>\n",
              "      <th>VisibilityLowMiles</th>\n",
              "      <th>WindHighMPH</th>\n",
              "      <th>WindAvgMPH</th>\n",
              "      <th>WindGustMPH</th>\n",
              "      <th>PrecipitationSumInches</th>\n",
              "    </tr>\n",
              "  </thead>\n",
              "  <tbody>\n",
              "    <tr>\n",
              "      <th>0</th>\n",
              "      <td>0</td>\n",
              "      <td>74</td>\n",
              "      <td>60</td>\n",
              "      <td>45</td>\n",
              "      <td>49</td>\n",
              "      <td>93</td>\n",
              "      <td>75</td>\n",
              "      <td>57</td>\n",
              "      <td>29.68</td>\n",
              "      <td>10</td>\n",
              "      <td>7</td>\n",
              "      <td>2</td>\n",
              "      <td>20</td>\n",
              "      <td>4</td>\n",
              "      <td>31</td>\n",
              "      <td>0.46</td>\n",
              "    </tr>\n",
              "    <tr>\n",
              "      <th>1</th>\n",
              "      <td>1</td>\n",
              "      <td>56</td>\n",
              "      <td>48</td>\n",
              "      <td>39</td>\n",
              "      <td>36</td>\n",
              "      <td>93</td>\n",
              "      <td>68</td>\n",
              "      <td>43</td>\n",
              "      <td>30.13</td>\n",
              "      <td>10</td>\n",
              "      <td>10</td>\n",
              "      <td>5</td>\n",
              "      <td>16</td>\n",
              "      <td>6</td>\n",
              "      <td>25</td>\n",
              "      <td>0.00</td>\n",
              "    </tr>\n",
              "    <tr>\n",
              "      <th>2</th>\n",
              "      <td>2</td>\n",
              "      <td>58</td>\n",
              "      <td>45</td>\n",
              "      <td>32</td>\n",
              "      <td>27</td>\n",
              "      <td>76</td>\n",
              "      <td>52</td>\n",
              "      <td>27</td>\n",
              "      <td>30.49</td>\n",
              "      <td>10</td>\n",
              "      <td>10</td>\n",
              "      <td>10</td>\n",
              "      <td>8</td>\n",
              "      <td>3</td>\n",
              "      <td>12</td>\n",
              "      <td>0.00</td>\n",
              "    </tr>\n",
              "    <tr>\n",
              "      <th>3</th>\n",
              "      <td>3</td>\n",
              "      <td>61</td>\n",
              "      <td>46</td>\n",
              "      <td>31</td>\n",
              "      <td>28</td>\n",
              "      <td>89</td>\n",
              "      <td>56</td>\n",
              "      <td>22</td>\n",
              "      <td>30.45</td>\n",
              "      <td>10</td>\n",
              "      <td>10</td>\n",
              "      <td>7</td>\n",
              "      <td>12</td>\n",
              "      <td>4</td>\n",
              "      <td>20</td>\n",
              "      <td>0.00</td>\n",
              "    </tr>\n",
              "    <tr>\n",
              "      <th>4</th>\n",
              "      <td>4</td>\n",
              "      <td>58</td>\n",
              "      <td>50</td>\n",
              "      <td>41</td>\n",
              "      <td>40</td>\n",
              "      <td>86</td>\n",
              "      <td>71</td>\n",
              "      <td>56</td>\n",
              "      <td>30.33</td>\n",
              "      <td>10</td>\n",
              "      <td>10</td>\n",
              "      <td>7</td>\n",
              "      <td>10</td>\n",
              "      <td>2</td>\n",
              "      <td>16</td>\n",
              "      <td>0.00</td>\n",
              "    </tr>\n",
              "    <tr>\n",
              "      <th>5</th>\n",
              "      <td>5</td>\n",
              "      <td>57</td>\n",
              "      <td>48</td>\n",
              "      <td>39</td>\n",
              "      <td>36</td>\n",
              "      <td>79</td>\n",
              "      <td>63</td>\n",
              "      <td>47</td>\n",
              "      <td>30.40</td>\n",
              "      <td>10</td>\n",
              "      <td>9</td>\n",
              "      <td>7</td>\n",
              "      <td>12</td>\n",
              "      <td>3</td>\n",
              "      <td>17</td>\n",
              "      <td>0.00</td>\n",
              "    </tr>\n",
              "    <tr>\n",
              "      <th>6</th>\n",
              "      <td>6</td>\n",
              "      <td>60</td>\n",
              "      <td>53</td>\n",
              "      <td>45</td>\n",
              "      <td>39</td>\n",
              "      <td>83</td>\n",
              "      <td>65</td>\n",
              "      <td>47</td>\n",
              "      <td>30.39</td>\n",
              "      <td>10</td>\n",
              "      <td>9</td>\n",
              "      <td>7</td>\n",
              "      <td>7</td>\n",
              "      <td>1</td>\n",
              "      <td>11</td>\n",
              "      <td>0.00</td>\n",
              "    </tr>\n",
              "    <tr>\n",
              "      <th>7</th>\n",
              "      <td>7</td>\n",
              "      <td>62</td>\n",
              "      <td>51</td>\n",
              "      <td>40</td>\n",
              "      <td>39</td>\n",
              "      <td>92</td>\n",
              "      <td>64</td>\n",
              "      <td>36</td>\n",
              "      <td>30.17</td>\n",
              "      <td>10</td>\n",
              "      <td>10</td>\n",
              "      <td>7</td>\n",
              "      <td>10</td>\n",
              "      <td>2</td>\n",
              "      <td>14</td>\n",
              "      <td>0.00</td>\n",
              "    </tr>\n",
              "    <tr>\n",
              "      <th>8</th>\n",
              "      <td>8</td>\n",
              "      <td>64</td>\n",
              "      <td>50</td>\n",
              "      <td>36</td>\n",
              "      <td>41</td>\n",
              "      <td>92</td>\n",
              "      <td>76</td>\n",
              "      <td>60</td>\n",
              "      <td>30.10</td>\n",
              "      <td>10</td>\n",
              "      <td>10</td>\n",
              "      <td>4</td>\n",
              "      <td>17</td>\n",
              "      <td>5</td>\n",
              "      <td>24</td>\n",
              "      <td>0.00</td>\n",
              "    </tr>\n",
              "    <tr>\n",
              "      <th>9</th>\n",
              "      <td>9</td>\n",
              "      <td>44</td>\n",
              "      <td>40</td>\n",
              "      <td>35</td>\n",
              "      <td>26</td>\n",
              "      <td>75</td>\n",
              "      <td>60</td>\n",
              "      <td>45</td>\n",
              "      <td>30.33</td>\n",
              "      <td>10</td>\n",
              "      <td>10</td>\n",
              "      <td>10</td>\n",
              "      <td>13</td>\n",
              "      <td>5</td>\n",
              "      <td>21</td>\n",
              "      <td>0.00</td>\n",
              "    </tr>\n",
              "  </tbody>\n",
              "</table>\n",
              "</div>\n",
              "      <button class=\"colab-df-convert\" onclick=\"convertToInteractive('df-49b85a29-f93a-4315-99af-823499175a2f')\"\n",
              "              title=\"Convert this dataframe to an interactive table.\"\n",
              "              style=\"display:none;\">\n",
              "        \n",
              "  <svg xmlns=\"http://www.w3.org/2000/svg\" height=\"24px\"viewBox=\"0 0 24 24\"\n",
              "       width=\"24px\">\n",
              "    <path d=\"M0 0h24v24H0V0z\" fill=\"none\"/>\n",
              "    <path d=\"M18.56 5.44l.94 2.06.94-2.06 2.06-.94-2.06-.94-.94-2.06-.94 2.06-2.06.94zm-11 1L8.5 8.5l.94-2.06 2.06-.94-2.06-.94L8.5 2.5l-.94 2.06-2.06.94zm10 10l.94 2.06.94-2.06 2.06-.94-2.06-.94-.94-2.06-.94 2.06-2.06.94z\"/><path d=\"M17.41 7.96l-1.37-1.37c-.4-.4-.92-.59-1.43-.59-.52 0-1.04.2-1.43.59L10.3 9.45l-7.72 7.72c-.78.78-.78 2.05 0 2.83L4 21.41c.39.39.9.59 1.41.59.51 0 1.02-.2 1.41-.59l7.78-7.78 2.81-2.81c.8-.78.8-2.07 0-2.86zM5.41 20L4 18.59l7.72-7.72 1.47 1.35L5.41 20z\"/>\n",
              "  </svg>\n",
              "      </button>\n",
              "      \n",
              "  <style>\n",
              "    .colab-df-container {\n",
              "      display:flex;\n",
              "      flex-wrap:wrap;\n",
              "      gap: 12px;\n",
              "    }\n",
              "\n",
              "    .colab-df-convert {\n",
              "      background-color: #E8F0FE;\n",
              "      border: none;\n",
              "      border-radius: 50%;\n",
              "      cursor: pointer;\n",
              "      display: none;\n",
              "      fill: #1967D2;\n",
              "      height: 32px;\n",
              "      padding: 0 0 0 0;\n",
              "      width: 32px;\n",
              "    }\n",
              "\n",
              "    .colab-df-convert:hover {\n",
              "      background-color: #E2EBFA;\n",
              "      box-shadow: 0px 1px 2px rgba(60, 64, 67, 0.3), 0px 1px 3px 1px rgba(60, 64, 67, 0.15);\n",
              "      fill: #174EA6;\n",
              "    }\n",
              "\n",
              "    [theme=dark] .colab-df-convert {\n",
              "      background-color: #3B4455;\n",
              "      fill: #D2E3FC;\n",
              "    }\n",
              "\n",
              "    [theme=dark] .colab-df-convert:hover {\n",
              "      background-color: #434B5C;\n",
              "      box-shadow: 0px 1px 3px 1px rgba(0, 0, 0, 0.15);\n",
              "      filter: drop-shadow(0px 1px 2px rgba(0, 0, 0, 0.3));\n",
              "      fill: #FFFFFF;\n",
              "    }\n",
              "  </style>\n",
              "\n",
              "      <script>\n",
              "        const buttonEl =\n",
              "          document.querySelector('#df-49b85a29-f93a-4315-99af-823499175a2f button.colab-df-convert');\n",
              "        buttonEl.style.display =\n",
              "          google.colab.kernel.accessAllowed ? 'block' : 'none';\n",
              "\n",
              "        async function convertToInteractive(key) {\n",
              "          const element = document.querySelector('#df-49b85a29-f93a-4315-99af-823499175a2f');\n",
              "          const dataTable =\n",
              "            await google.colab.kernel.invokeFunction('convertToInteractive',\n",
              "                                                     [key], {});\n",
              "          if (!dataTable) return;\n",
              "\n",
              "          const docLinkHtml = 'Like what you see? Visit the ' +\n",
              "            '<a target=\"_blank\" href=https://colab.research.google.com/notebooks/data_table.ipynb>data table notebook</a>'\n",
              "            + ' to learn more about interactive tables.';\n",
              "          element.innerHTML = '';\n",
              "          dataTable['output_type'] = 'display_data';\n",
              "          await google.colab.output.renderOutput(dataTable, element);\n",
              "          const docLink = document.createElement('div');\n",
              "          docLink.innerHTML = docLinkHtml;\n",
              "          element.appendChild(docLink);\n",
              "        }\n",
              "      </script>\n",
              "    </div>\n",
              "  </div>\n",
              "  "
            ]
          },
          "metadata": {},
          "execution_count": 45
        }
      ]
    },
    {
      "cell_type": "code",
      "source": [
        "# Remove the unwanted column('Unnamed: 0):\n",
        "df_rainfall.drop(columns = [\"Unnamed: 0\"], inplace = True)"
      ],
      "metadata": {
        "id": "D_GndDkqNoC7"
      },
      "execution_count": 46,
      "outputs": []
    },
    {
      "cell_type": "code",
      "source": [
        "# Remove outliers from the data;\n",
        "#'VisibilityHighMiles' column:\n",
        "low, high = df_rainfall[\"VisibilityHighMiles\"].quantile([0.01, 1])\n",
        "mask_visibilityH = df_rainfall[\"VisibilityHighMiles\"].between(low, high)\n",
        "#'SeaLevelPressureAvgInches' column:\n",
        "low, high = df_rainfall[\"SeaLevelPressureAvgInches\"].quantile([0.25, 1])\n",
        "mask_seaLevel = df_rainfall[\"SeaLevelPressureAvgInches\"].between(low, high)\n",
        "\n",
        "# Transform the dataframe:\n",
        "df_rainfall = df_rainfall[mask_visibilityH & mask_seaLevel]"
      ],
      "metadata": {
        "id": "9ZOLmDh5LmnU"
      },
      "execution_count": 47,
      "outputs": []
    },
    {
      "cell_type": "code",
      "source": [
        "df_rainfall.head(10)"
      ],
      "metadata": {
        "colab": {
          "base_uri": "https://localhost:8080/",
          "height": 427
        },
        "id": "5BUqIS_ONxOL",
        "outputId": "f7428440-a492-49cb-dcdd-a65d86140f0d"
      },
      "execution_count": 48,
      "outputs": [
        {
          "output_type": "execute_result",
          "data": {
            "text/plain": [
              "    TempHighF  TempAvgF  TempLowF  DewPointAvgF  HumidityHighPercent  \\\n",
              "1          56        48        39            36                   93   \n",
              "2          58        45        32            27                   76   \n",
              "3          61        46        31            28                   89   \n",
              "4          58        50        41            40                   86   \n",
              "5          57        48        39            36                   79   \n",
              "6          60        53        45            39                   83   \n",
              "7          62        51        40            39                   92   \n",
              "8          64        50        36            41                   92   \n",
              "9          44        40        35            26                   75   \n",
              "10         55        46        36            28                   76   \n",
              "\n",
              "    HumidityAvgPercent  HumidityLowPercent  SeaLevelPressureAvgInches  \\\n",
              "1                   68                  43                      30.13   \n",
              "2                   52                  27                      30.49   \n",
              "3                   56                  22                      30.45   \n",
              "4                   71                  56                      30.33   \n",
              "5                   63                  47                      30.40   \n",
              "6                   65                  47                      30.39   \n",
              "7                   64                  36                      30.17   \n",
              "8                   76                  60                      30.10   \n",
              "9                   60                  45                      30.33   \n",
              "10                  54                  32                      30.39   \n",
              "\n",
              "    VisibilityHighMiles  VisibilityAvgMiles  VisibilityLowMiles  WindHighMPH  \\\n",
              "1                    10                  10                   5           16   \n",
              "2                    10                  10                  10            8   \n",
              "3                    10                  10                   7           12   \n",
              "4                    10                  10                   7           10   \n",
              "5                    10                   9                   7           12   \n",
              "6                    10                   9                   7            7   \n",
              "7                    10                  10                   7           10   \n",
              "8                    10                  10                   4           17   \n",
              "9                    10                  10                  10           13   \n",
              "10                   10                  10                  10            8   \n",
              "\n",
              "    WindAvgMPH  WindGustMPH  PrecipitationSumInches  \n",
              "1            6           25                     0.0  \n",
              "2            3           12                     0.0  \n",
              "3            4           20                     0.0  \n",
              "4            2           16                     0.0  \n",
              "5            3           17                     0.0  \n",
              "6            1           11                     0.0  \n",
              "7            2           14                     0.0  \n",
              "8            5           24                     0.0  \n",
              "9            5           21                     0.0  \n",
              "10           1           12                     0.0  "
            ],
            "text/html": [
              "\n",
              "  <div id=\"df-25a2d963-5faf-49b0-940f-29f20ba06e77\">\n",
              "    <div class=\"colab-df-container\">\n",
              "      <div>\n",
              "<style scoped>\n",
              "    .dataframe tbody tr th:only-of-type {\n",
              "        vertical-align: middle;\n",
              "    }\n",
              "\n",
              "    .dataframe tbody tr th {\n",
              "        vertical-align: top;\n",
              "    }\n",
              "\n",
              "    .dataframe thead th {\n",
              "        text-align: right;\n",
              "    }\n",
              "</style>\n",
              "<table border=\"1\" class=\"dataframe\">\n",
              "  <thead>\n",
              "    <tr style=\"text-align: right;\">\n",
              "      <th></th>\n",
              "      <th>TempHighF</th>\n",
              "      <th>TempAvgF</th>\n",
              "      <th>TempLowF</th>\n",
              "      <th>DewPointAvgF</th>\n",
              "      <th>HumidityHighPercent</th>\n",
              "      <th>HumidityAvgPercent</th>\n",
              "      <th>HumidityLowPercent</th>\n",
              "      <th>SeaLevelPressureAvgInches</th>\n",
              "      <th>VisibilityHighMiles</th>\n",
              "      <th>VisibilityAvgMiles</th>\n",
              "      <th>VisibilityLowMiles</th>\n",
              "      <th>WindHighMPH</th>\n",
              "      <th>WindAvgMPH</th>\n",
              "      <th>WindGustMPH</th>\n",
              "      <th>PrecipitationSumInches</th>\n",
              "    </tr>\n",
              "  </thead>\n",
              "  <tbody>\n",
              "    <tr>\n",
              "      <th>1</th>\n",
              "      <td>56</td>\n",
              "      <td>48</td>\n",
              "      <td>39</td>\n",
              "      <td>36</td>\n",
              "      <td>93</td>\n",
              "      <td>68</td>\n",
              "      <td>43</td>\n",
              "      <td>30.13</td>\n",
              "      <td>10</td>\n",
              "      <td>10</td>\n",
              "      <td>5</td>\n",
              "      <td>16</td>\n",
              "      <td>6</td>\n",
              "      <td>25</td>\n",
              "      <td>0.0</td>\n",
              "    </tr>\n",
              "    <tr>\n",
              "      <th>2</th>\n",
              "      <td>58</td>\n",
              "      <td>45</td>\n",
              "      <td>32</td>\n",
              "      <td>27</td>\n",
              "      <td>76</td>\n",
              "      <td>52</td>\n",
              "      <td>27</td>\n",
              "      <td>30.49</td>\n",
              "      <td>10</td>\n",
              "      <td>10</td>\n",
              "      <td>10</td>\n",
              "      <td>8</td>\n",
              "      <td>3</td>\n",
              "      <td>12</td>\n",
              "      <td>0.0</td>\n",
              "    </tr>\n",
              "    <tr>\n",
              "      <th>3</th>\n",
              "      <td>61</td>\n",
              "      <td>46</td>\n",
              "      <td>31</td>\n",
              "      <td>28</td>\n",
              "      <td>89</td>\n",
              "      <td>56</td>\n",
              "      <td>22</td>\n",
              "      <td>30.45</td>\n",
              "      <td>10</td>\n",
              "      <td>10</td>\n",
              "      <td>7</td>\n",
              "      <td>12</td>\n",
              "      <td>4</td>\n",
              "      <td>20</td>\n",
              "      <td>0.0</td>\n",
              "    </tr>\n",
              "    <tr>\n",
              "      <th>4</th>\n",
              "      <td>58</td>\n",
              "      <td>50</td>\n",
              "      <td>41</td>\n",
              "      <td>40</td>\n",
              "      <td>86</td>\n",
              "      <td>71</td>\n",
              "      <td>56</td>\n",
              "      <td>30.33</td>\n",
              "      <td>10</td>\n",
              "      <td>10</td>\n",
              "      <td>7</td>\n",
              "      <td>10</td>\n",
              "      <td>2</td>\n",
              "      <td>16</td>\n",
              "      <td>0.0</td>\n",
              "    </tr>\n",
              "    <tr>\n",
              "      <th>5</th>\n",
              "      <td>57</td>\n",
              "      <td>48</td>\n",
              "      <td>39</td>\n",
              "      <td>36</td>\n",
              "      <td>79</td>\n",
              "      <td>63</td>\n",
              "      <td>47</td>\n",
              "      <td>30.40</td>\n",
              "      <td>10</td>\n",
              "      <td>9</td>\n",
              "      <td>7</td>\n",
              "      <td>12</td>\n",
              "      <td>3</td>\n",
              "      <td>17</td>\n",
              "      <td>0.0</td>\n",
              "    </tr>\n",
              "    <tr>\n",
              "      <th>6</th>\n",
              "      <td>60</td>\n",
              "      <td>53</td>\n",
              "      <td>45</td>\n",
              "      <td>39</td>\n",
              "      <td>83</td>\n",
              "      <td>65</td>\n",
              "      <td>47</td>\n",
              "      <td>30.39</td>\n",
              "      <td>10</td>\n",
              "      <td>9</td>\n",
              "      <td>7</td>\n",
              "      <td>7</td>\n",
              "      <td>1</td>\n",
              "      <td>11</td>\n",
              "      <td>0.0</td>\n",
              "    </tr>\n",
              "    <tr>\n",
              "      <th>7</th>\n",
              "      <td>62</td>\n",
              "      <td>51</td>\n",
              "      <td>40</td>\n",
              "      <td>39</td>\n",
              "      <td>92</td>\n",
              "      <td>64</td>\n",
              "      <td>36</td>\n",
              "      <td>30.17</td>\n",
              "      <td>10</td>\n",
              "      <td>10</td>\n",
              "      <td>7</td>\n",
              "      <td>10</td>\n",
              "      <td>2</td>\n",
              "      <td>14</td>\n",
              "      <td>0.0</td>\n",
              "    </tr>\n",
              "    <tr>\n",
              "      <th>8</th>\n",
              "      <td>64</td>\n",
              "      <td>50</td>\n",
              "      <td>36</td>\n",
              "      <td>41</td>\n",
              "      <td>92</td>\n",
              "      <td>76</td>\n",
              "      <td>60</td>\n",
              "      <td>30.10</td>\n",
              "      <td>10</td>\n",
              "      <td>10</td>\n",
              "      <td>4</td>\n",
              "      <td>17</td>\n",
              "      <td>5</td>\n",
              "      <td>24</td>\n",
              "      <td>0.0</td>\n",
              "    </tr>\n",
              "    <tr>\n",
              "      <th>9</th>\n",
              "      <td>44</td>\n",
              "      <td>40</td>\n",
              "      <td>35</td>\n",
              "      <td>26</td>\n",
              "      <td>75</td>\n",
              "      <td>60</td>\n",
              "      <td>45</td>\n",
              "      <td>30.33</td>\n",
              "      <td>10</td>\n",
              "      <td>10</td>\n",
              "      <td>10</td>\n",
              "      <td>13</td>\n",
              "      <td>5</td>\n",
              "      <td>21</td>\n",
              "      <td>0.0</td>\n",
              "    </tr>\n",
              "    <tr>\n",
              "      <th>10</th>\n",
              "      <td>55</td>\n",
              "      <td>46</td>\n",
              "      <td>36</td>\n",
              "      <td>28</td>\n",
              "      <td>76</td>\n",
              "      <td>54</td>\n",
              "      <td>32</td>\n",
              "      <td>30.39</td>\n",
              "      <td>10</td>\n",
              "      <td>10</td>\n",
              "      <td>10</td>\n",
              "      <td>8</td>\n",
              "      <td>1</td>\n",
              "      <td>12</td>\n",
              "      <td>0.0</td>\n",
              "    </tr>\n",
              "  </tbody>\n",
              "</table>\n",
              "</div>\n",
              "      <button class=\"colab-df-convert\" onclick=\"convertToInteractive('df-25a2d963-5faf-49b0-940f-29f20ba06e77')\"\n",
              "              title=\"Convert this dataframe to an interactive table.\"\n",
              "              style=\"display:none;\">\n",
              "        \n",
              "  <svg xmlns=\"http://www.w3.org/2000/svg\" height=\"24px\"viewBox=\"0 0 24 24\"\n",
              "       width=\"24px\">\n",
              "    <path d=\"M0 0h24v24H0V0z\" fill=\"none\"/>\n",
              "    <path d=\"M18.56 5.44l.94 2.06.94-2.06 2.06-.94-2.06-.94-.94-2.06-.94 2.06-2.06.94zm-11 1L8.5 8.5l.94-2.06 2.06-.94-2.06-.94L8.5 2.5l-.94 2.06-2.06.94zm10 10l.94 2.06.94-2.06 2.06-.94-2.06-.94-.94-2.06-.94 2.06-2.06.94z\"/><path d=\"M17.41 7.96l-1.37-1.37c-.4-.4-.92-.59-1.43-.59-.52 0-1.04.2-1.43.59L10.3 9.45l-7.72 7.72c-.78.78-.78 2.05 0 2.83L4 21.41c.39.39.9.59 1.41.59.51 0 1.02-.2 1.41-.59l7.78-7.78 2.81-2.81c.8-.78.8-2.07 0-2.86zM5.41 20L4 18.59l7.72-7.72 1.47 1.35L5.41 20z\"/>\n",
              "  </svg>\n",
              "      </button>\n",
              "      \n",
              "  <style>\n",
              "    .colab-df-container {\n",
              "      display:flex;\n",
              "      flex-wrap:wrap;\n",
              "      gap: 12px;\n",
              "    }\n",
              "\n",
              "    .colab-df-convert {\n",
              "      background-color: #E8F0FE;\n",
              "      border: none;\n",
              "      border-radius: 50%;\n",
              "      cursor: pointer;\n",
              "      display: none;\n",
              "      fill: #1967D2;\n",
              "      height: 32px;\n",
              "      padding: 0 0 0 0;\n",
              "      width: 32px;\n",
              "    }\n",
              "\n",
              "    .colab-df-convert:hover {\n",
              "      background-color: #E2EBFA;\n",
              "      box-shadow: 0px 1px 2px rgba(60, 64, 67, 0.3), 0px 1px 3px 1px rgba(60, 64, 67, 0.15);\n",
              "      fill: #174EA6;\n",
              "    }\n",
              "\n",
              "    [theme=dark] .colab-df-convert {\n",
              "      background-color: #3B4455;\n",
              "      fill: #D2E3FC;\n",
              "    }\n",
              "\n",
              "    [theme=dark] .colab-df-convert:hover {\n",
              "      background-color: #434B5C;\n",
              "      box-shadow: 0px 1px 3px 1px rgba(0, 0, 0, 0.15);\n",
              "      filter: drop-shadow(0px 1px 2px rgba(0, 0, 0, 0.3));\n",
              "      fill: #FFFFFF;\n",
              "    }\n",
              "  </style>\n",
              "\n",
              "      <script>\n",
              "        const buttonEl =\n",
              "          document.querySelector('#df-25a2d963-5faf-49b0-940f-29f20ba06e77 button.colab-df-convert');\n",
              "        buttonEl.style.display =\n",
              "          google.colab.kernel.accessAllowed ? 'block' : 'none';\n",
              "\n",
              "        async function convertToInteractive(key) {\n",
              "          const element = document.querySelector('#df-25a2d963-5faf-49b0-940f-29f20ba06e77');\n",
              "          const dataTable =\n",
              "            await google.colab.kernel.invokeFunction('convertToInteractive',\n",
              "                                                     [key], {});\n",
              "          if (!dataTable) return;\n",
              "\n",
              "          const docLinkHtml = 'Like what you see? Visit the ' +\n",
              "            '<a target=\"_blank\" href=https://colab.research.google.com/notebooks/data_table.ipynb>data table notebook</a>'\n",
              "            + ' to learn more about interactive tables.';\n",
              "          element.innerHTML = '';\n",
              "          dataTable['output_type'] = 'display_data';\n",
              "          await google.colab.output.renderOutput(dataTable, element);\n",
              "          const docLink = document.createElement('div');\n",
              "          docLink.innerHTML = docLinkHtml;\n",
              "          element.appendChild(docLink);\n",
              "        }\n",
              "      </script>\n",
              "    </div>\n",
              "  </div>\n",
              "  "
            ]
          },
          "metadata": {},
          "execution_count": 48
        }
      ]
    },
    {
      "cell_type": "code",
      "source": [
        "# An overview of the dataframe:\n",
        "df_rainfall.info()"
      ],
      "metadata": {
        "colab": {
          "base_uri": "https://localhost:8080/"
        },
        "id": "kXfcZaE3Nt87",
        "outputId": "dd604646-2bff-451c-9954-7d4b65ac2afb"
      },
      "execution_count": 49,
      "outputs": [
        {
          "output_type": "stream",
          "name": "stdout",
          "text": [
            "<class 'pandas.core.frame.DataFrame'>\n",
            "Int64Index: 1008 entries, 1 to 1318\n",
            "Data columns (total 15 columns):\n",
            " #   Column                     Non-Null Count  Dtype  \n",
            "---  ------                     --------------  -----  \n",
            " 0   TempHighF                  1008 non-null   int64  \n",
            " 1   TempAvgF                   1008 non-null   int64  \n",
            " 2   TempLowF                   1008 non-null   int64  \n",
            " 3   DewPointAvgF               1008 non-null   int64  \n",
            " 4   HumidityHighPercent        1008 non-null   int64  \n",
            " 5   HumidityAvgPercent         1008 non-null   int64  \n",
            " 6   HumidityLowPercent         1008 non-null   int64  \n",
            " 7   SeaLevelPressureAvgInches  1008 non-null   float64\n",
            " 8   VisibilityHighMiles        1008 non-null   int64  \n",
            " 9   VisibilityAvgMiles         1008 non-null   int64  \n",
            " 10  VisibilityLowMiles         1008 non-null   int64  \n",
            " 11  WindHighMPH                1008 non-null   int64  \n",
            " 12  WindAvgMPH                 1008 non-null   int64  \n",
            " 13  WindGustMPH                1008 non-null   int64  \n",
            " 14  PrecipitationSumInches     1008 non-null   float64\n",
            "dtypes: float64(2), int64(13)\n",
            "memory usage: 126.0 KB\n"
          ]
        }
      ]
    },
    {
      "cell_type": "code",
      "source": [
        "# The independent variables:\n",
        "input_ds = df_rainfall.drop(columns = [\"PrecipitationSumInches\"])\n",
        "# The dependent variable:\n",
        "output_ds = df_rainfall[\"PrecipitationSumInches\"]"
      ],
      "metadata": {
        "id": "yDIT71SuLnPC"
      },
      "execution_count": 50,
      "outputs": []
    },
    {
      "cell_type": "code",
      "source": [
        "input_ds.head()"
      ],
      "metadata": {
        "colab": {
          "base_uri": "https://localhost:8080/",
          "height": 270
        },
        "id": "btc52iP3Nbcy",
        "outputId": "3647b406-7e8e-4edf-add8-4417b7241cd9"
      },
      "execution_count": 51,
      "outputs": [
        {
          "output_type": "execute_result",
          "data": {
            "text/plain": [
              "   TempHighF  TempAvgF  TempLowF  DewPointAvgF  HumidityHighPercent  \\\n",
              "1         56        48        39            36                   93   \n",
              "2         58        45        32            27                   76   \n",
              "3         61        46        31            28                   89   \n",
              "4         58        50        41            40                   86   \n",
              "5         57        48        39            36                   79   \n",
              "\n",
              "   HumidityAvgPercent  HumidityLowPercent  SeaLevelPressureAvgInches  \\\n",
              "1                  68                  43                      30.13   \n",
              "2                  52                  27                      30.49   \n",
              "3                  56                  22                      30.45   \n",
              "4                  71                  56                      30.33   \n",
              "5                  63                  47                      30.40   \n",
              "\n",
              "   VisibilityHighMiles  VisibilityAvgMiles  VisibilityLowMiles  WindHighMPH  \\\n",
              "1                   10                  10                   5           16   \n",
              "2                   10                  10                  10            8   \n",
              "3                   10                  10                   7           12   \n",
              "4                   10                  10                   7           10   \n",
              "5                   10                   9                   7           12   \n",
              "\n",
              "   WindAvgMPH  WindGustMPH  \n",
              "1           6           25  \n",
              "2           3           12  \n",
              "3           4           20  \n",
              "4           2           16  \n",
              "5           3           17  "
            ],
            "text/html": [
              "\n",
              "  <div id=\"df-2c77b723-9238-419b-8fe2-46aa8f98245d\">\n",
              "    <div class=\"colab-df-container\">\n",
              "      <div>\n",
              "<style scoped>\n",
              "    .dataframe tbody tr th:only-of-type {\n",
              "        vertical-align: middle;\n",
              "    }\n",
              "\n",
              "    .dataframe tbody tr th {\n",
              "        vertical-align: top;\n",
              "    }\n",
              "\n",
              "    .dataframe thead th {\n",
              "        text-align: right;\n",
              "    }\n",
              "</style>\n",
              "<table border=\"1\" class=\"dataframe\">\n",
              "  <thead>\n",
              "    <tr style=\"text-align: right;\">\n",
              "      <th></th>\n",
              "      <th>TempHighF</th>\n",
              "      <th>TempAvgF</th>\n",
              "      <th>TempLowF</th>\n",
              "      <th>DewPointAvgF</th>\n",
              "      <th>HumidityHighPercent</th>\n",
              "      <th>HumidityAvgPercent</th>\n",
              "      <th>HumidityLowPercent</th>\n",
              "      <th>SeaLevelPressureAvgInches</th>\n",
              "      <th>VisibilityHighMiles</th>\n",
              "      <th>VisibilityAvgMiles</th>\n",
              "      <th>VisibilityLowMiles</th>\n",
              "      <th>WindHighMPH</th>\n",
              "      <th>WindAvgMPH</th>\n",
              "      <th>WindGustMPH</th>\n",
              "    </tr>\n",
              "  </thead>\n",
              "  <tbody>\n",
              "    <tr>\n",
              "      <th>1</th>\n",
              "      <td>56</td>\n",
              "      <td>48</td>\n",
              "      <td>39</td>\n",
              "      <td>36</td>\n",
              "      <td>93</td>\n",
              "      <td>68</td>\n",
              "      <td>43</td>\n",
              "      <td>30.13</td>\n",
              "      <td>10</td>\n",
              "      <td>10</td>\n",
              "      <td>5</td>\n",
              "      <td>16</td>\n",
              "      <td>6</td>\n",
              "      <td>25</td>\n",
              "    </tr>\n",
              "    <tr>\n",
              "      <th>2</th>\n",
              "      <td>58</td>\n",
              "      <td>45</td>\n",
              "      <td>32</td>\n",
              "      <td>27</td>\n",
              "      <td>76</td>\n",
              "      <td>52</td>\n",
              "      <td>27</td>\n",
              "      <td>30.49</td>\n",
              "      <td>10</td>\n",
              "      <td>10</td>\n",
              "      <td>10</td>\n",
              "      <td>8</td>\n",
              "      <td>3</td>\n",
              "      <td>12</td>\n",
              "    </tr>\n",
              "    <tr>\n",
              "      <th>3</th>\n",
              "      <td>61</td>\n",
              "      <td>46</td>\n",
              "      <td>31</td>\n",
              "      <td>28</td>\n",
              "      <td>89</td>\n",
              "      <td>56</td>\n",
              "      <td>22</td>\n",
              "      <td>30.45</td>\n",
              "      <td>10</td>\n",
              "      <td>10</td>\n",
              "      <td>7</td>\n",
              "      <td>12</td>\n",
              "      <td>4</td>\n",
              "      <td>20</td>\n",
              "    </tr>\n",
              "    <tr>\n",
              "      <th>4</th>\n",
              "      <td>58</td>\n",
              "      <td>50</td>\n",
              "      <td>41</td>\n",
              "      <td>40</td>\n",
              "      <td>86</td>\n",
              "      <td>71</td>\n",
              "      <td>56</td>\n",
              "      <td>30.33</td>\n",
              "      <td>10</td>\n",
              "      <td>10</td>\n",
              "      <td>7</td>\n",
              "      <td>10</td>\n",
              "      <td>2</td>\n",
              "      <td>16</td>\n",
              "    </tr>\n",
              "    <tr>\n",
              "      <th>5</th>\n",
              "      <td>57</td>\n",
              "      <td>48</td>\n",
              "      <td>39</td>\n",
              "      <td>36</td>\n",
              "      <td>79</td>\n",
              "      <td>63</td>\n",
              "      <td>47</td>\n",
              "      <td>30.40</td>\n",
              "      <td>10</td>\n",
              "      <td>9</td>\n",
              "      <td>7</td>\n",
              "      <td>12</td>\n",
              "      <td>3</td>\n",
              "      <td>17</td>\n",
              "    </tr>\n",
              "  </tbody>\n",
              "</table>\n",
              "</div>\n",
              "      <button class=\"colab-df-convert\" onclick=\"convertToInteractive('df-2c77b723-9238-419b-8fe2-46aa8f98245d')\"\n",
              "              title=\"Convert this dataframe to an interactive table.\"\n",
              "              style=\"display:none;\">\n",
              "        \n",
              "  <svg xmlns=\"http://www.w3.org/2000/svg\" height=\"24px\"viewBox=\"0 0 24 24\"\n",
              "       width=\"24px\">\n",
              "    <path d=\"M0 0h24v24H0V0z\" fill=\"none\"/>\n",
              "    <path d=\"M18.56 5.44l.94 2.06.94-2.06 2.06-.94-2.06-.94-.94-2.06-.94 2.06-2.06.94zm-11 1L8.5 8.5l.94-2.06 2.06-.94-2.06-.94L8.5 2.5l-.94 2.06-2.06.94zm10 10l.94 2.06.94-2.06 2.06-.94-2.06-.94-.94-2.06-.94 2.06-2.06.94z\"/><path d=\"M17.41 7.96l-1.37-1.37c-.4-.4-.92-.59-1.43-.59-.52 0-1.04.2-1.43.59L10.3 9.45l-7.72 7.72c-.78.78-.78 2.05 0 2.83L4 21.41c.39.39.9.59 1.41.59.51 0 1.02-.2 1.41-.59l7.78-7.78 2.81-2.81c.8-.78.8-2.07 0-2.86zM5.41 20L4 18.59l7.72-7.72 1.47 1.35L5.41 20z\"/>\n",
              "  </svg>\n",
              "      </button>\n",
              "      \n",
              "  <style>\n",
              "    .colab-df-container {\n",
              "      display:flex;\n",
              "      flex-wrap:wrap;\n",
              "      gap: 12px;\n",
              "    }\n",
              "\n",
              "    .colab-df-convert {\n",
              "      background-color: #E8F0FE;\n",
              "      border: none;\n",
              "      border-radius: 50%;\n",
              "      cursor: pointer;\n",
              "      display: none;\n",
              "      fill: #1967D2;\n",
              "      height: 32px;\n",
              "      padding: 0 0 0 0;\n",
              "      width: 32px;\n",
              "    }\n",
              "\n",
              "    .colab-df-convert:hover {\n",
              "      background-color: #E2EBFA;\n",
              "      box-shadow: 0px 1px 2px rgba(60, 64, 67, 0.3), 0px 1px 3px 1px rgba(60, 64, 67, 0.15);\n",
              "      fill: #174EA6;\n",
              "    }\n",
              "\n",
              "    [theme=dark] .colab-df-convert {\n",
              "      background-color: #3B4455;\n",
              "      fill: #D2E3FC;\n",
              "    }\n",
              "\n",
              "    [theme=dark] .colab-df-convert:hover {\n",
              "      background-color: #434B5C;\n",
              "      box-shadow: 0px 1px 3px 1px rgba(0, 0, 0, 0.15);\n",
              "      filter: drop-shadow(0px 1px 2px rgba(0, 0, 0, 0.3));\n",
              "      fill: #FFFFFF;\n",
              "    }\n",
              "  </style>\n",
              "\n",
              "      <script>\n",
              "        const buttonEl =\n",
              "          document.querySelector('#df-2c77b723-9238-419b-8fe2-46aa8f98245d button.colab-df-convert');\n",
              "        buttonEl.style.display =\n",
              "          google.colab.kernel.accessAllowed ? 'block' : 'none';\n",
              "\n",
              "        async function convertToInteractive(key) {\n",
              "          const element = document.querySelector('#df-2c77b723-9238-419b-8fe2-46aa8f98245d');\n",
              "          const dataTable =\n",
              "            await google.colab.kernel.invokeFunction('convertToInteractive',\n",
              "                                                     [key], {});\n",
              "          if (!dataTable) return;\n",
              "\n",
              "          const docLinkHtml = 'Like what you see? Visit the ' +\n",
              "            '<a target=\"_blank\" href=https://colab.research.google.com/notebooks/data_table.ipynb>data table notebook</a>'\n",
              "            + ' to learn more about interactive tables.';\n",
              "          element.innerHTML = '';\n",
              "          dataTable['output_type'] = 'display_data';\n",
              "          await google.colab.output.renderOutput(dataTable, element);\n",
              "          const docLink = document.createElement('div');\n",
              "          docLink.innerHTML = docLinkHtml;\n",
              "          element.appendChild(docLink);\n",
              "        }\n",
              "      </script>\n",
              "    </div>\n",
              "  </div>\n",
              "  "
            ]
          },
          "metadata": {},
          "execution_count": 51
        }
      ]
    },
    {
      "cell_type": "markdown",
      "source": [
        "FEATURE DISTRIBUTION AND CORRELATION"
      ],
      "metadata": {
        "id": "cAFTUkbJN7kD"
      }
    },
    {
      "cell_type": "code",
      "source": [
        "# Distribution of all dependent variables.\n",
        "# Create a histogram of each:\n",
        "new_df = df_rainfall.drop(columns=[\"PrecipitationSumInches\"])\n",
        "distr_hist = new_df.hist(bins=20)\n",
        "\n",
        "# Disable axis labels to avoid clutter:\n",
        "for axis in distr_hist.flatten():\n",
        "    axis.set_xticklabels([])\n",
        "    axis.set_yticklabels([])\n",
        "plt.show()"
      ],
      "metadata": {
        "colab": {
          "base_uri": "https://localhost:8080/",
          "height": 268
        },
        "id": "ezoWoE42Npln",
        "outputId": "2b22a85a-76b2-432c-bb0f-bf06636c9b29"
      },
      "execution_count": 52,
      "outputs": [
        {
          "output_type": "display_data",
          "data": {
            "text/plain": [
              "<Figure size 432x288 with 16 Axes>"
            ],
            "image/png": "[encoded data removed]"
          },
          "metadata": {
            "needs_background": "light"
          }
        }
      ]
    },
    {
      "cell_type": "code",
      "source": [
        "df_rainfall.boxplot()"
      ],
      "metadata": {
        "colab": {
          "base_uri": "https://localhost:8080/",
          "height": 282
        },
        "id": "w0lYweW7PkWU",
        "outputId": "0ede6512-3ebe-49ab-819c-679f30a00f9e"
      },
      "execution_count": 53,
      "outputs": [
        {
          "output_type": "execute_result",
          "data": {
            "text/plain": [
              "<Axes: >"
            ]
          },
          "metadata": {},
          "execution_count": 53
        },
        {
          "output_type": "display_data",
          "data": {
            "text/plain": [
              "<Figure size 432x288 with 1 Axes>"
            ],
            "image/png": "[encoded data removed]"
          },
          "metadata": {
            "needs_background": "light"
          }
        }
      ]
    },
    {
      "cell_type": "code",
      "source": [
        "# Use a horizontal boxplot to check for outliers in the 'TempHighF' column:\n",
        "plt.boxplot(df_rainfall[\"TempHighF\"], vert = False)\n",
        "plt.xlabel(\"Highest Temperature [°F]\")\n",
        "plt.title(\"Distribution of Highest Temperature\");"
      ],
      "metadata": {
        "colab": {
          "base_uri": "https://localhost:8080/",
          "height": 295
        },
        "id": "Wf2FuhhKOafG",
        "outputId": "c0aefa12-9611-44de-e182-8f6d7ffc54e0"
      },
      "execution_count": 54,
      "outputs": [
        {
          "output_type": "display_data",
          "data": {
            "text/plain": [
              "<Figure size 432x288 with 1 Axes>"
            ],
            "image/png": "[encoded data removed]"
          },
          "metadata": {
            "needs_background": "light"
          }
        }
      ]
    },
    {
      "cell_type": "code",
      "source": [
        "# Summary stats of 'TempHighF' feature:\n",
        "df_rainfall[\"TempHighF\"].describe()"
      ],
      "metadata": {
        "colab": {
          "base_uri": "https://localhost:8080/"
        },
        "id": "RYris0DSOpiF",
        "outputId": "5410121f-df01-4083-e8a6-24004689f249"
      },
      "execution_count": 55,
      "outputs": [
        {
          "output_type": "execute_result",
          "data": {
            "text/plain": [
              "count    1008.000000\n",
              "mean       79.078373\n",
              "std        15.522569\n",
              "min        32.000000\n",
              "25%        69.000000\n",
              "50%        81.000000\n",
              "75%        92.000000\n",
              "max       106.000000\n",
              "Name: TempHighF, dtype: float64"
            ]
          },
          "metadata": {},
          "execution_count": 55
        }
      ]
    },
    {
      "cell_type": "code",
      "source": [
        "# Use a horizontal boxplot to check for outliers in the 'TempAvgF' column:\n",
        "plt.boxplot(df_rainfall[\"TempAvgF\"], vert = False)\n",
        "plt.xlabel(\"Average Temperature [°F]\")\n",
        "plt.title(\"Distribution of Average Temperature\");"
      ],
      "metadata": {
        "colab": {
          "base_uri": "https://localhost:8080/",
          "height": 295
        },
        "id": "OxS879vtPCn-",
        "outputId": "38de4e88-dbc8-4bed-cb2a-60e9180a1d13"
      },
      "execution_count": 56,
      "outputs": [
        {
          "output_type": "display_data",
          "data": {
            "text/plain": [
              "<Figure size 432x288 with 1 Axes>"
            ],
            "image/png": "[encoded data removed]"
          },
          "metadata": {
            "needs_background": "light"
          }
        }
      ]
    },
    {
      "cell_type": "code",
      "source": [
        "# Summary stats of 'TempAvgF' feature:\n",
        "df_rainfall[\"TempAvgF\"].describe()"
      ],
      "metadata": {
        "colab": {
          "base_uri": "https://localhost:8080/"
        },
        "id": "LWqtDTpmPDXL",
        "outputId": "593c77ef-a761-4ee2-f929-4210aa6fe2d9"
      },
      "execution_count": 57,
      "outputs": [
        {
          "output_type": "execute_result",
          "data": {
            "text/plain": [
              "count    1008.000000\n",
              "mean       68.929563\n",
              "std        14.742881\n",
              "min        29.000000\n",
              "25%        57.000000\n",
              "50%        71.000000\n",
              "75%        82.000000\n",
              "max        93.000000\n",
              "Name: TempAvgF, dtype: float64"
            ]
          },
          "metadata": {},
          "execution_count": 57
        }
      ]
    },
    {
      "cell_type": "code",
      "source": [
        "# Use a horizontal boxplot to check for outliers in the 'TempLowF' column:\n",
        "plt.boxplot(df_rainfall[\"TempLowF\"], vert = False)\n",
        "plt.xlabel(\"Lowest Temperature [°F]\")\n",
        "plt.title(\"Distribution of Lowest Temperature\");"
      ],
      "metadata": {
        "colab": {
          "base_uri": "https://localhost:8080/",
          "height": 295
        },
        "id": "rglTVzaHPFfw",
        "outputId": "29646578-8f95-4c9b-b6cd-471d49d65090"
      },
      "execution_count": 58,
      "outputs": [
        {
          "output_type": "display_data",
          "data": {
            "text/plain": [
              "<Figure size 432x288 with 1 Axes>"
            ],
            "image/png": "[encoded data removed]"
          },
          "metadata": {
            "needs_background": "light"
          }
        }
      ]
    },
    {
      "cell_type": "code",
      "source": [
        "# Summary stats of 'TempLowF' feature:\n",
        "df_rainfall[\"TempLowF\"].describe()"
      ],
      "metadata": {
        "colab": {
          "base_uri": "https://localhost:8080/"
        },
        "id": "qu5SZ_EyPIov",
        "outputId": "bba94b26-99e9-41e2-f60c-5eb3539d2ed1"
      },
      "execution_count": 59,
      "outputs": [
        {
          "output_type": "execute_result",
          "data": {
            "text/plain": [
              "count    1008.000000\n",
              "mean       58.269841\n",
              "std        14.835229\n",
              "min        19.000000\n",
              "25%        46.000000\n",
              "50%        60.000000\n",
              "75%        72.000000\n",
              "max        81.000000\n",
              "Name: TempLowF, dtype: float64"
            ]
          },
          "metadata": {},
          "execution_count": 59
        }
      ]
    },
    {
      "cell_type": "code",
      "source": [
        "# Use a horizontal boxplot to check for outliers in the 'DewPointAvgF' column:\n",
        "plt.boxplot(df_rainfall[\"DewPointAvgF\"], vert = False)\n",
        "plt.xlabel(\"Average Dew Point Temperature [°F]\")\n",
        "plt.title(\"Distribution of Average Dew Point Temperature\");"
      ],
      "metadata": {
        "colab": {
          "base_uri": "https://localhost:8080/",
          "height": 295
        },
        "id": "3MhYx20XPKpX",
        "outputId": "41bed8b8-00a8-43dc-bef4-9799018d5949"
      },
      "execution_count": 60,
      "outputs": [
        {
          "output_type": "display_data",
          "data": {
            "text/plain": [
              "<Figure size 432x288 with 1 Axes>"
            ],
            "image/png": "[encoded data removed]"
          },
          "metadata": {
            "needs_background": "light"
          }
        }
      ]
    },
    {
      "cell_type": "code",
      "source": [
        "df_rainfall[\"DewPointAvgF\"].describe()"
      ],
      "metadata": {
        "colab": {
          "base_uri": "https://localhost:8080/"
        },
        "id": "gnHdgmIkPLTq",
        "outputId": "13b5a080-d937-41e1-a96f-68439ef659ca"
      },
      "execution_count": 61,
      "outputs": [
        {
          "output_type": "execute_result",
          "data": {
            "text/plain": [
              "count    1008.000000\n",
              "mean       54.822421\n",
              "std        15.690123\n",
              "min         8.000000\n",
              "25%        43.000000\n",
              "50%        59.000000\n",
              "75%        69.000000\n",
              "max        76.000000\n",
              "Name: DewPointAvgF, dtype: float64"
            ]
          },
          "metadata": {},
          "execution_count": 61
        }
      ]
    },
    {
      "cell_type": "code",
      "source": [
        "# Use a horizontal boxplot to check for outliers in the 'HumidityAvgPercent' column:\n",
        "plt.boxplot(df_rainfall[\"HumidityAvgPercent\"], vert = False)\n",
        "plt.xlabel(\"Average Humidity [%]\")\n",
        "plt.title(\"Distribution of Average Humidity\");"
      ],
      "metadata": {
        "colab": {
          "base_uri": "https://localhost:8080/",
          "height": 295
        },
        "id": "CpcksNeTPOE2",
        "outputId": "430e73ad-f3d0-442f-e5e9-d805453eff78"
      },
      "execution_count": 62,
      "outputs": [
        {
          "output_type": "display_data",
          "data": {
            "text/plain": [
              "<Figure size 432x288 with 1 Axes>"
            ],
            "image/png": "[encoded data removed]"
          },
          "metadata": {
            "needs_background": "light"
          }
        }
      ]
    },
    {
      "cell_type": "code",
      "source": [
        "df_rainfall[\"HumidityAvgPercent\"].describe()"
      ],
      "metadata": {
        "colab": {
          "base_uri": "https://localhost:8080/"
        },
        "id": "C5cphO91PRPO",
        "outputId": "82584749-2dc1-48df-9be9-5df5bac4cd90"
      },
      "execution_count": 63,
      "outputs": [
        {
          "output_type": "execute_result",
          "data": {
            "text/plain": [
              "count    1008.000000\n",
              "mean       66.210317\n",
              "std        12.755567\n",
              "min        27.000000\n",
              "25%        58.000000\n",
              "50%        67.000000\n",
              "75%        74.000000\n",
              "max        97.000000\n",
              "Name: HumidityAvgPercent, dtype: float64"
            ]
          },
          "metadata": {},
          "execution_count": 63
        }
      ]
    },
    {
      "cell_type": "code",
      "source": [
        "# Use a horizontal boxplot to check for outliers in the 'SeaLevelPressureAvgInches' column:\n",
        "plt.boxplot(df_rainfall[\"SeaLevelPressureAvgInches\"], vert = False)\n",
        "plt.xlabel(\"Average Sea Level Pressure [Inches]\")\n",
        "plt.title(\"Distribution of Average Sea Level Pressure\");"
      ],
      "metadata": {
        "colab": {
          "base_uri": "https://localhost:8080/",
          "height": 295
        },
        "id": "WzytrBXUPSzC",
        "outputId": "0e4107db-2e43-44fd-f515-60b50a71af00"
      },
      "execution_count": 64,
      "outputs": [
        {
          "output_type": "display_data",
          "data": {
            "text/plain": [
              "<Figure size 432x288 with 1 Axes>"
            ],
            "image/png": "[encoded data removed]"
          },
          "metadata": {
            "needs_background": "light"
          }
        }
      ]
    },
    {
      "cell_type": "code",
      "source": [
        "df_rainfall[\"SeaLevelPressureAvgInches\"].describe()"
      ],
      "metadata": {
        "colab": {
          "base_uri": "https://localhost:8080/"
        },
        "id": "lWZKoPvNPUvS",
        "outputId": "0da81699-9e48-4174-d4a0-21786901b79a"
      },
      "execution_count": 65,
      "outputs": [
        {
          "output_type": "execute_result",
          "data": {
            "text/plain": [
              "count    1008.000000\n",
              "mean       30.081349\n",
              "std         0.146358\n",
              "min        29.910000\n",
              "25%        29.970000\n",
              "50%        30.040000\n",
              "75%        30.150000\n",
              "max        30.740000\n",
              "Name: SeaLevelPressureAvgInches, dtype: float64"
            ]
          },
          "metadata": {},
          "execution_count": 65
        }
      ]
    },
    {
      "cell_type": "code",
      "source": [
        "# Use a horizontal boxplot to check for outliers in the 'VisibilityHighMiles' column:\n",
        "plt.boxplot(df_rainfall[\"VisibilityHighMiles\"], vert = False)\n",
        "plt.xlabel(\"Highest Visibility [Miles]\")\n",
        "plt.title(\"Distribution of Highest Visibility\");"
      ],
      "metadata": {
        "colab": {
          "base_uri": "https://localhost:8080/",
          "height": 295
        },
        "id": "QjpE1g5xPWuQ",
        "outputId": "ea825d66-187d-4033-cb65-345819022a73"
      },
      "execution_count": 66,
      "outputs": [
        {
          "output_type": "display_data",
          "data": {
            "text/plain": [
              "<Figure size 432x288 with 1 Axes>"
            ],
            "image/png": "[encoded data removed]"
          },
          "metadata": {
            "needs_background": "light"
          }
        }
      ]
    },
    {
      "cell_type": "code",
      "source": [
        "df_rainfall[\"VisibilityHighMiles\"].describe()"
      ],
      "metadata": {
        "colab": {
          "base_uri": "https://localhost:8080/"
        },
        "id": "kSg-9g-MPY6v",
        "outputId": "d2afda9f-eb22-4b30-f119-c95bbb187cfd"
      },
      "execution_count": 67,
      "outputs": [
        {
          "output_type": "execute_result",
          "data": {
            "text/plain": [
              "count    1008.000000\n",
              "mean        9.994048\n",
              "std         0.099474\n",
              "min         8.000000\n",
              "25%        10.000000\n",
              "50%        10.000000\n",
              "75%        10.000000\n",
              "max        10.000000\n",
              "Name: VisibilityHighMiles, dtype: float64"
            ]
          },
          "metadata": {},
          "execution_count": 67
        }
      ]
    },
    {
      "cell_type": "code",
      "source": [
        "# Use a horizontal boxplot to check for outliers in the 'VisibilityAvgMiles' column:\n",
        "plt.boxplot(df_rainfall[\"VisibilityAvgMiles\"], vert = False)\n",
        "plt.xlabel(\"Average Visibility [Miles]\")\n",
        "plt.title(\"Distribution of Average Visibility\");"
      ],
      "metadata": {
        "colab": {
          "base_uri": "https://localhost:8080/",
          "height": 295
        },
        "id": "SUHslxJ6PrWZ",
        "outputId": "4a5e71de-f5af-4043-833d-aa68779adb0f"
      },
      "execution_count": 68,
      "outputs": [
        {
          "output_type": "display_data",
          "data": {
            "text/plain": [
              "<Figure size 432x288 with 1 Axes>"
            ],
            "image/png": "[encoded data removed]"
          },
          "metadata": {
            "needs_background": "light"
          }
        }
      ]
    },
    {
      "cell_type": "code",
      "source": [
        "df_rainfall[\"VisibilityAvgMiles\"].describe()"
      ],
      "metadata": {
        "colab": {
          "base_uri": "https://localhost:8080/"
        },
        "id": "lkWPqTp3Pu7P",
        "outputId": "b3b82493-32fa-44ae-f41d-c8e2a0eae4e2"
      },
      "execution_count": 69,
      "outputs": [
        {
          "output_type": "execute_result",
          "data": {
            "text/plain": [
              "count    1008.000000\n",
              "mean        9.230159\n",
              "std         1.435333\n",
              "min         2.000000\n",
              "25%         9.000000\n",
              "50%        10.000000\n",
              "75%        10.000000\n",
              "max        10.000000\n",
              "Name: VisibilityAvgMiles, dtype: float64"
            ]
          },
          "metadata": {},
          "execution_count": 69
        }
      ]
    },
    {
      "cell_type": "code",
      "source": [
        "# Use a horizontal boxplot to check for outliers in the 'WindAvgMPH' column:\n",
        "plt.boxplot(df_rainfall[\"WindAvgMPH\"], vert = False)\n",
        "plt.xlabel(\"Average Wind Speed [MPH]\")\n",
        "plt.title(\"Distribution of Average Wind Speed\");"
      ],
      "metadata": {
        "colab": {
          "base_uri": "https://localhost:8080/",
          "height": 295
        },
        "id": "qzSHjkcJPwnQ",
        "outputId": "220e0dcd-8bb1-40ac-defe-3a60beb14732"
      },
      "execution_count": 70,
      "outputs": [
        {
          "output_type": "display_data",
          "data": {
            "text/plain": [
              "<Figure size 432x288 with 1 Axes>"
            ],
            "image/png": "[encoded data removed]"
          },
          "metadata": {
            "needs_background": "light"
          }
        }
      ]
    },
    {
      "cell_type": "code",
      "source": [
        "df_rainfall[\"WindAvgMPH\"].describe()"
      ],
      "metadata": {
        "colab": {
          "base_uri": "https://localhost:8080/"
        },
        "id": "GCeH7MtaP0cg",
        "outputId": "94c9e4e1-be8d-4f77-981c-74c23a845513"
      },
      "execution_count": 71,
      "outputs": [
        {
          "output_type": "execute_result",
          "data": {
            "text/plain": [
              "count    1008.000000\n",
              "mean        4.767857\n",
              "std         2.029494\n",
              "min         1.000000\n",
              "25%         3.000000\n",
              "50%         5.000000\n",
              "75%         6.000000\n",
              "max        12.000000\n",
              "Name: WindAvgMPH, dtype: float64"
            ]
          },
          "metadata": {},
          "execution_count": 71
        }
      ]
    },
    {
      "cell_type": "code",
      "source": [
        "# Use a horizontal boxplot to check for outliers in the 'WindGustMPH' column:\n",
        "plt.boxplot(df_rainfall[\"WindGustMPH\"], vert = False)\n",
        "plt.xlabel(\"Wind Gust [MPH]\")\n",
        "plt.title(\"Distribution of Wind Gust\");"
      ],
      "metadata": {
        "colab": {
          "base_uri": "https://localhost:8080/",
          "height": 295
        },
        "id": "9YWjSiZjP2Dr",
        "outputId": "4cc2ae07-1505-4101-f7eb-11dc1d759e36"
      },
      "execution_count": 72,
      "outputs": [
        {
          "output_type": "display_data",
          "data": {
            "text/plain": [
              "<Figure size 432x288 with 1 Axes>"
            ],
            "image/png": "[encoded data removed]"
          },
          "metadata": {
            "needs_background": "light"
          }
        }
      ]
    },
    {
      "cell_type": "code",
      "source": [
        "df_rainfall[\"WindGustMPH\"].describe()"
      ],
      "metadata": {
        "colab": {
          "base_uri": "https://localhost:8080/"
        },
        "id": "XPzRl5BRP3pJ",
        "outputId": "26987c25-9496-4d0c-b53d-86727fdc8b47"
      },
      "execution_count": 73,
      "outputs": [
        {
          "output_type": "execute_result",
          "data": {
            "text/plain": [
              "count    1008.000000\n",
              "mean       20.609127\n",
              "std         5.677006\n",
              "min         0.000000\n",
              "25%        17.000000\n",
              "50%        20.000000\n",
              "75%        24.000000\n",
              "max        57.000000\n",
              "Name: WindGustMPH, dtype: float64"
            ]
          },
          "metadata": {},
          "execution_count": 73
        }
      ]
    },
    {
      "cell_type": "code",
      "source": [
        "# Use a horizontal boxplot to check for outliers in the 'PrecipitationSumInches' column:\n",
        "plt.boxplot(df_rainfall[\"PrecipitationSumInches\"], vert = False)\n",
        "plt.xlabel(\"Amount of Precipitation (Inches)\")\n",
        "plt.title(\"Distribution of Precipitation\");"
      ],
      "metadata": {
        "colab": {
          "base_uri": "https://localhost:8080/",
          "height": 295
        },
        "id": "fEk6WltSP5FY",
        "outputId": "cd17c329-4720-415a-d78a-13b7e3758ff5"
      },
      "execution_count": 74,
      "outputs": [
        {
          "output_type": "display_data",
          "data": {
            "text/plain": [
              "<Figure size 432x288 with 1 Axes>"
            ],
            "image/png": "[encoded data removed]"
          },
          "metadata": {
            "needs_background": "light"
          }
        }
      ]
    },
    {
      "cell_type": "code",
      "source": [
        "# Summary stats of 'PrecipitationSumInches' attribute:\n",
        "df_rainfall[\"PrecipitationSumInches\"].describe()"
      ],
      "metadata": {
        "colab": {
          "base_uri": "https://localhost:8080/"
        },
        "id": "lYH9_XW8P6p5",
        "outputId": "74b0340d-a968-4c11-add4-3a59cad25f55"
      },
      "execution_count": 75,
      "outputs": [
        {
          "output_type": "execute_result",
          "data": {
            "text/plain": [
              "count    1008.000000\n",
              "mean        0.087073\n",
              "std         0.306352\n",
              "min         0.000000\n",
              "25%         0.000000\n",
              "50%         0.000000\n",
              "75%         0.000000\n",
              "max         3.840000\n",
              "Name: PrecipitationSumInches, dtype: float64"
            ]
          },
          "metadata": {},
          "execution_count": 75
        }
      ]
    },
    {
      "cell_type": "code",
      "source": [
        "# Correlation matrix.\n",
        "# Shows the relationship between the dependent variables and the independent variable:\n",
        "corrmatrix = df_rainfall.corr()\n",
        "fig = plt.figure(figsize = (12, 9))\n",
        "\n",
        "sns.heatmap(corrmatrix, vmax = 1.0, square = True)\n",
        "plt.show()"
      ],
      "metadata": {
        "colab": {
          "base_uri": "https://localhost:8080/",
          "height": 670
        },
        "id": "6Z-4CcMGP8HY",
        "outputId": "41359299-87a6-4238-873e-edb4497d3ecf"
      },
      "execution_count": 76,
      "outputs": [
        {
          "output_type": "display_data",
          "data": {
            "text/plain": [
              "<Figure size 864x648 with 2 Axes>"
            ],
            "image/png": "[encoded data removed]"
          },
          "metadata": {
            "needs_background": "light"
          }
        }
      ]
    },
    {
      "cell_type": "markdown",
      "source": [
        "We can infer that the Humidity measures and the visibility measures have the maximum correlation with the precipitation level."
      ],
      "metadata": {
        "id": "Um_GRL5rQFTQ"
      }
    },
    {
      "cell_type": "markdown",
      "source": [
        "Testing the inferences:"
      ],
      "metadata": {
        "id": "_GiZmGvkQVDQ"
      }
    },
    {
      "cell_type": "code",
      "source": [
        "# Create a scatterplot to test if 'HumidityAvgPercent' influences the amount of precipitation:\n",
        "plt.scatter(df_rainfall[\"HumidityLowPercent\"], df_rainfall[\"PrecipitationSumInches\"])\n",
        "plt.xlabel(\"Average Low Humidity (%)\")\n",
        "plt.ylabel(\"Amount of Precipitation (Inches)\")\n",
        "plt.title(\"Precipitation vs. Average Humidy\");"
      ],
      "metadata": {
        "colab": {
          "base_uri": "https://localhost:8080/",
          "height": 295
        },
        "id": "R3eF83g_QO09",
        "outputId": "eb791de7-d23d-48ef-96d8-a0615f3353ec"
      },
      "execution_count": 77,
      "outputs": [
        {
          "output_type": "display_data",
          "data": {
            "text/plain": [
              "<Figure size 432x288 with 1 Axes>"
            ],
            "image/png": "[encoded data removed]"
          },
          "metadata": {
            "needs_background": "light"
          }
        }
      ]
    },
    {
      "cell_type": "code",
      "source": [
        "# The Pearson correlation coefficient of 'PrecipitationSumInches' and 'HumidityAvgPercent':\n",
        "p_correlation = df_rainfall[\"HumidityLowPercent\"].corr(df_rainfall[\"PrecipitationSumInches\"])\n",
        "print(\"The Pearson correlation coefficient is: \", p_correlation)"
      ],
      "metadata": {
        "colab": {
          "base_uri": "https://localhost:8080/"
        },
        "id": "TzTVs_UzQTvt",
        "outputId": "3051d3ee-1a25-4603-e9f8-de5a540993a4"
      },
      "execution_count": 78,
      "outputs": [
        {
          "output_type": "stream",
          "name": "stdout",
          "text": [
            "The Pearson correlation coefficient is:  0.3835895852220039\n"
          ]
        }
      ]
    },
    {
      "cell_type": "code",
      "source": [
        "# Create a scatterplot to test if 'HumidityAvgPercent' influences the amount of precipitation:\n",
        "plt.scatter(df_rainfall[\"VisibilityAvgMiles\"], df_rainfall[\"PrecipitationSumInches\"])\n",
        "plt.xlabel(\"VisibilityAvgMiles (%)\")\n",
        "plt.ylabel(\"Amount of Precipitation (Inches)\")\n",
        "plt.title(\"Precipitation vs. VisibilityAvgMiles\");"
      ],
      "metadata": {
        "colab": {
          "base_uri": "https://localhost:8080/",
          "height": 295
        },
        "id": "GIjKcrSRQgq5",
        "outputId": "e29f16da-84a9-4745-a9ed-86247a293d0c"
      },
      "execution_count": 79,
      "outputs": [
        {
          "output_type": "display_data",
          "data": {
            "text/plain": [
              "<Figure size 432x288 with 1 Axes>"
            ],
            "image/png": "[encoded data removed]"
          },
          "metadata": {
            "needs_background": "light"
          }
        }
      ]
    },
    {
      "cell_type": "code",
      "source": [
        "# The Pearson correlation coefficient of 'PrecipitationSumInches' and 'HumidityAvgPercent':\n",
        "p_correlation = df_rainfall[\"VisibilityAvgMiles\"].corr(df_rainfall[\"PrecipitationSumInches\"])\n",
        "print(\"The Pearson correlation coefficient is: \", p_correlation)"
      ],
      "metadata": {
        "colab": {
          "base_uri": "https://localhost:8080/"
        },
        "id": "ke-xzSQ8Q0r6",
        "outputId": "81ba2e66-3082-4847-a16e-9c662fcb4cd4"
      },
      "execution_count": 80,
      "outputs": [
        {
          "output_type": "stream",
          "name": "stdout",
          "text": [
            "The Pearson correlation coefficient is:  -0.473946069855981\n"
          ]
        }
      ]
    },
    {
      "cell_type": "markdown",
      "source": [
        "SPLITTING THE DATA"
      ],
      "metadata": {
        "id": "vRRaa5SWRJmA"
      }
    },
    {
      "cell_type": "code",
      "source": [
        "# Dataset summary:\n",
        "print(input_ds.shape, output_ds.shape)"
      ],
      "metadata": {
        "colab": {
          "base_uri": "https://localhost:8080/"
        },
        "id": "EWUgOZPPRH8x",
        "outputId": "0d62dce1-9339-4223-c970-9a1de3d60946"
      },
      "execution_count": 81,
      "outputs": [
        {
          "output_type": "stream",
          "name": "stdout",
          "text": [
            "(1008, 14) (1008,)\n"
          ]
        }
      ]
    },
    {
      "cell_type": "code",
      "source": [
        "# Split into train and test sets:\n",
        "input_train, input_test, output_train, output_test = train_test_split(input_ds, output_ds, test_size = 0.2, random_state = 42)\n",
        "\n",
        "print(\"input train: \", input_train.shape)\n",
        "print(\"\\ninput test: \", input_test.shape)\n",
        "print(\"\\noutput train: \", output_train.shape)\n",
        "print(\"\\noutput test: \", output_test.shape)"
      ],
      "metadata": {
        "colab": {
          "base_uri": "https://localhost:8080/"
        },
        "id": "CBBU0jidROqo",
        "outputId": "d0815938-48d1-468f-c5c0-bb4ac1bfd16c"
      },
      "execution_count": 82,
      "outputs": [
        {
          "output_type": "stream",
          "name": "stdout",
          "text": [
            "input train:  (806, 14)\n",
            "\n",
            "input test:  (202, 14)\n",
            "\n",
            "output train:  (806,)\n",
            "\n",
            "output test:  (202,)\n"
          ]
        }
      ]
    },
    {
      "cell_type": "code",
      "source": [
        "# Standardize the training and test set:\n",
        "sc = StandardScaler()\n",
        "input_train = sc.fit_transform(input_train)\n",
        "input_test = sc.transform(input_test)"
      ],
      "metadata": {
        "id": "toHoEQalRQlf"
      },
      "execution_count": 83,
      "outputs": []
    },
    {
      "cell_type": "markdown",
      "source": [
        "MODEL BUILDING AND TESTING"
      ],
      "metadata": {
        "id": "D1PVoo7tRUxo"
      }
    },
    {
      "cell_type": "markdown",
      "source": [
        "\n",
        "\n",
        "---\n",
        "1. MULTIPLE LINEAR REGRESSION\n"
      ],
      "metadata": {
        "id": "YW9zSDkyRYA8"
      }
    },
    {
      "cell_type": "code",
      "source": [
        "# Create a linear regression model and train it:\n",
        "model = LinearRegression()\n",
        "model.fit(input_train, output_train)\n",
        "\n",
        "# Calculating the intercept and coefficient:\n",
        "print(\"The intercept is: \", model.intercept_)\n",
        "print(\"\\nThe coefficient is: \", model.coef_)\n",
        "\n",
        "# Make predictions:\n",
        "predictions_lr = model.predict(input_train)"
      ],
      "metadata": {
        "colab": {
          "base_uri": "https://localhost:8080/"
        },
        "id": "15PzijQ2RTpI",
        "outputId": "9e44ea60-5723-4c7a-e77d-74d6f20c746b"
      },
      "execution_count": 84,
      "outputs": [
        {
          "output_type": "stream",
          "name": "stdout",
          "text": [
            "The intercept is:  0.08528535980148888\n",
            "\n",
            "The coefficient is:  [ 0.24571219 -0.33747861  0.31965307 -0.22037346  0.12773646 -0.25306266\n",
            "  0.27313453 -0.00437155  0.02615958 -0.10718213 -0.02063717  0.07573155\n",
            " -0.07114171  0.02975905]\n"
          ]
        }
      ]
    },
    {
      "cell_type": "code",
      "source": [
        "# Evaluate the model on the training set.\n",
        "# The Mean Absolute Error:\n",
        "mae_training = mean_absolute_error(output_train, predictions_lr)\n",
        "print(\"The training MAE is: \", round(mae_training, 2), \"\\n\")\n",
        "# The Root Mean Squared Error:\n",
        "scores = cross_val_score(model, input_train, output_train, scoring = \"neg_mean_squared_error\", cv=10)\n",
        "rmse_scores = np.sqrt(-scores)\n",
        "# Let's look at the results:\n",
        "def display_scores(scores):\n",
        "    print(\"Scores RMSE: \", scores)\n",
        "    print(\"Standard deviation: \", scores.std(), \"\\n\")\n",
        "    print(\"Mean RMSE is: \", round(scores.mean(), 2))\n",
        "    \n",
        "\n",
        "display_scores(rmse_scores)"
      ],
      "metadata": {
        "colab": {
          "base_uri": "https://localhost:8080/"
        },
        "id": "hO3gwMziRgCu",
        "outputId": "0b76de51-15a8-4e23-ef23-2f77b61e05c4"
      },
      "execution_count": 85,
      "outputs": [
        {
          "output_type": "stream",
          "name": "stdout",
          "text": [
            "The training MAE is:  0.12 \n",
            "\n",
            "Scores RMSE:  [0.2380799  0.20186494 0.18686664 0.37246955 0.2041969  0.17203585\n",
            " 0.45722685 0.16922172 0.19475157 0.17712903]\n",
            "Standard deviation:  0.09266019734473513 \n",
            "\n",
            "Mean RMSE is:  0.24\n"
          ]
        }
      ]
    },
    {
      "cell_type": "markdown",
      "source": [
        "\n",
        "\n",
        "---\n",
        "\n",
        "2. MULTI-LAYER PERCEPTRON - REGRESSOR"
      ],
      "metadata": {
        "id": "pF34i_2QRj0C"
      }
    },
    {
      "cell_type": "code",
      "source": [
        "# Create the multilayer perceptron regressor model.\n",
        "# The neural network is trained using standardized data:\n",
        "mlpr = MLPRegressor(hidden_layer_sizes = (16,), solver = 'lbfgs', max_iter = 10000)\n",
        "mlpr.fit(input_train, output_train)\n",
        "\n",
        "# Make predictions:\n",
        "predictions_mlpr = mlpr.predict(input_train)"
      ],
      "metadata": {
        "id": "sxpLfQAMRiH6"
      },
      "execution_count": 86,
      "outputs": []
    },
    {
      "cell_type": "code",
      "source": [
        "# Evaluate the model on the training set.\n",
        "# The Mean Absolute Error:\n",
        "mae_training = mean_absolute_error(output_train, predictions_mlpr)\n",
        "print(\"The training MAE is: \", round(mae_training, 2), \"\\n\")\n",
        "# The Root Mean Squared Error:\n",
        "scores = cross_val_score(mlpr, input_train, output_train, scoring = \"neg_mean_squared_error\", cv=10)\n",
        "rmse_scores = np.sqrt(-scores)\n",
        "# Let's look at the results:\n",
        "def display_scores(scores):\n",
        "    print(\"Scores RMSE: \", scores)\n",
        "    print(\"Standard deviation: \", scores.std(), \"\\n\")\n",
        "    print(\"Mean RMSE is: \", round(scores.mean(), 2))\n",
        "    \n",
        "\n",
        "display_scores(rmse_scores)"
      ],
      "metadata": {
        "colab": {
          "base_uri": "https://localhost:8080/"
        },
        "id": "EfMCV4SMRrN4",
        "outputId": "14eed255-6228-4001-dfef-17c1d68c0dbf"
      },
      "execution_count": 87,
      "outputs": [
        {
          "output_type": "stream",
          "name": "stdout",
          "text": [
            "The training MAE is:  0.04 \n",
            "\n",
            "Scores RMSE:  [0.33096942 0.38939916 0.22162471 0.44880857 0.52442846 0.27786996\n",
            " 0.44444263 0.64914331 0.37850081 0.23968775]\n",
            "Standard deviation:  0.1260082125876944 \n",
            "\n",
            "Mean RMSE is:  0.39\n"
          ]
        }
      ]
    },
    {
      "cell_type": "markdown",
      "source": [
        "\n",
        "\n",
        "---\n",
        " 3. KNN REGRESSION\n"
      ],
      "metadata": {
        "id": "qsk9krw3R1PN"
      }
    },
    {
      "cell_type": "code",
      "source": [
        "# Create a KNeighbors Regression model and train it:\n",
        "kn_reg = KNeighborsRegressor(n_neighbors = 2)\n",
        "kn_reg.fit(input_train, output_train)\n",
        "\n",
        "# Make predictions:\n",
        "predictions_knn = kn_reg.predict(input_train)"
      ],
      "metadata": {
        "id": "k4vDIuEZRs7x"
      },
      "execution_count": 88,
      "outputs": []
    },
    {
      "cell_type": "code",
      "source": [
        "# Evaluate the model on the training set.\n",
        "# The Mean Absolute Error:\n",
        "mae_training = mean_absolute_error(output_train, predictions_knn)\n",
        "print(\"The training MAE is: \", round(mae_training, 2), \"\\n\")\n",
        "# The Root Mean Squared Error:\n",
        "scores = cross_val_score(kn_reg, input_train, output_train, scoring = \"neg_mean_squared_error\", cv=10)\n",
        "rmse_scores = np.sqrt(-scores)\n",
        "# Let's look at the results:\n",
        "def display_scores(scores):\n",
        "    print(\"Scores RMSE: \", scores)\n",
        "    print(\"Standard deviation: \", scores.std(), \"\\n\")\n",
        "    print(\"Mean RMSE is: \", round(scores.mean(), 2))\n",
        "    \n",
        "\n",
        "display_scores(rmse_scores)"
      ],
      "metadata": {
        "colab": {
          "base_uri": "https://localhost:8080/"
        },
        "id": "Cw7bB70eR_1V",
        "outputId": "d88b97f2-0777-4540-c9d2-e2077069c06b"
      },
      "execution_count": 89,
      "outputs": [
        {
          "output_type": "stream",
          "name": "stdout",
          "text": [
            "The training MAE is:  0.04 \n",
            "\n",
            "Scores RMSE:  [0.23882557 0.24624025 0.15695993 0.33372616 0.34425443 0.23153074\n",
            " 0.36634768 0.18402615 0.1782642  0.17060737]\n",
            "Standard deviation:  0.07357095109061319 \n",
            "\n",
            "Mean RMSE is:  0.25\n"
          ]
        }
      ]
    },
    {
      "cell_type": "markdown",
      "source": [
        "\n",
        "\n",
        "---\n",
        "4. RIDGED REGRESSION\n"
      ],
      "metadata": {
        "id": "Lgsp7SP6SCG8"
      }
    },
    {
      "cell_type": "code",
      "source": [
        "# Create a ridge regression model and train it:\n",
        "ridge25 = Ridge(alpha = 25)\n",
        "ridge25.fit(input_train, output_train)\n",
        "\n",
        "# Calculating the intercept and coefficient:\n",
        "print(\"The intercept is: \", ridge25.intercept_)\n",
        "print(\"\\nThe coefficient is: \", ridge25.coef_)\n",
        "\n",
        "# Make predictions:\n",
        "predictions_r25 = ridge25.predict(input_train)"
      ],
      "metadata": {
        "colab": {
          "base_uri": "https://localhost:8080/"
        },
        "id": "Z00c3mxUSFVp",
        "outputId": "ab1ce551-44b1-41a1-eabb-56d7126204eb"
      },
      "execution_count": 90,
      "outputs": [
        {
          "output_type": "stream",
          "name": "stdout",
          "text": [
            "The intercept is:  0.08528535980148885\n",
            "\n",
            "The coefficient is:  [-0.00220235  0.01693353  0.04189331 -0.04477622 -0.01289655  0.00819891\n",
            "  0.05128808 -0.00353129  0.0238549  -0.09865524 -0.02775774  0.06081555\n",
            " -0.06079119  0.03464541]\n"
          ]
        }
      ]
    },
    {
      "cell_type": "code",
      "source": [
        "# Evaluate the model on the training set.\n",
        "# The Mean Absolute Error:\n",
        "mae_training = mean_absolute_error(output_train, predictions_r25)\n",
        "print(\"The training MAE is: \", round(mae_training, 2), \"\\n\")\n",
        "# The Root Mean Squared Error:\n",
        "scores = cross_val_score(ridge25, input_train, output_train, scoring = \"neg_mean_squared_error\", cv=10)\n",
        "rmse_scores = np.sqrt(-scores)\n",
        "# Let's look at the results:\n",
        "def display_scores(scores):\n",
        "    print(\"Scores RMSE: \", scores)\n",
        "    print(\"Standard deviation: \", scores.std(), \"\\n\")\n",
        "    print(\"Mean RMSE is: \", round(scores.mean(), 2))\n",
        "    \n",
        "\n",
        "display_scores(rmse_scores)"
      ],
      "metadata": {
        "colab": {
          "base_uri": "https://localhost:8080/"
        },
        "id": "DFBmsQpzSLUx",
        "outputId": "097c35a6-759c-4a67-89d7-b00e0d9d70d7"
      },
      "execution_count": 91,
      "outputs": [
        {
          "output_type": "stream",
          "name": "stdout",
          "text": [
            "The training MAE is:  0.12 \n",
            "\n",
            "Scores RMSE:  [0.23662402 0.19501727 0.18709533 0.37870844 0.20212096 0.17091138\n",
            " 0.45140912 0.1678608  0.19772078 0.17910838]\n",
            "Standard deviation:  0.09250044719291504 \n",
            "\n",
            "Mean RMSE is:  0.24\n"
          ]
        }
      ]
    },
    {
      "cell_type": "markdown",
      "source": [
        "\n",
        "\n",
        "---\n",
        "5. RANDOM FOREST REGRESSOR\n"
      ],
      "metadata": {
        "id": "Xt5H768jSOtB"
      }
    },
    {
      "cell_type": "code",
      "source": [
        "# Make a Random Forest Regressor model and train it:\n",
        "from sklearn.ensemble import RandomForestRegressor\n",
        "\n",
        "forest_reg = RandomForestRegressor()\n",
        "forest_reg.fit(input_train, output_train)\n",
        "\n",
        "# Make predictions:\n",
        "predictions_forest = forest_reg.predict(input_train)"
      ],
      "metadata": {
        "id": "Y93NeFMQSKMA"
      },
      "execution_count": 92,
      "outputs": []
    },
    {
      "cell_type": "code",
      "source": [
        "# Evaluate the model on the training set.\n",
        "# The Mean Absolute Error:\n",
        "mae_training = mean_absolute_error(output_train, predictions_forest)\n",
        "print(\"The training MAE is: \", round(mae_training, 2), \"\\n\")\n",
        "# The Root Mean Squared Error:\n",
        "scores = cross_val_score(forest_reg, input_train, output_train, scoring = \"neg_mean_squared_error\", cv=10)\n",
        "rmse_scores = np.sqrt(-scores)\n",
        "# Let's look at the results:\n",
        "def display_scores(scores):\n",
        "    print(\"Scores RMSE: \", scores)\n",
        "    print(\"Standard deviation: \", scores.std(), \"\\n\")\n",
        "    print(\"Mean RMSE is: \", round(scores.mean(), 2))\n",
        "    \n",
        "\n",
        "display_scores(rmse_scores)"
      ],
      "metadata": {
        "colab": {
          "base_uri": "https://localhost:8080/"
        },
        "id": "mJEHK-DnSTPu",
        "outputId": "24bcf920-fa7c-49a2-f6c6-6d5e59602cce"
      },
      "execution_count": 93,
      "outputs": [
        {
          "output_type": "stream",
          "name": "stdout",
          "text": [
            "The training MAE is:  0.03 \n",
            "\n",
            "Scores RMSE:  [0.24226497 0.18062956 0.22366349 0.32627731 0.26619843 0.16215756\n",
            " 0.42559229 0.11393062 0.24114256 0.12550891]\n",
            "Standard deviation:  0.08976403987830699 \n",
            "\n",
            "Mean RMSE is:  0.23\n"
          ]
        }
      ]
    },
    {
      "cell_type": "markdown",
      "source": [
        "\n",
        "\n",
        "---\n",
        "\n",
        "6. SUPPORT VECTOR MACHINES"
      ],
      "metadata": {
        "id": "gNy9w3IeSVVF"
      }
    },
    {
      "cell_type": "code",
      "source": [
        "# Make a Support Vector Regressor model and train it:\n",
        "from sklearn.svm import SVR\n",
        "\n",
        "regressor_rbf = SVR(kernel = \"rbf\")\n",
        "regressor_rbf.fit(input_train, output_train)\n",
        "\n",
        "# Make predictions:\n",
        "predictions_svr_r = regressor_rbf.predict(input_train)"
      ],
      "metadata": {
        "id": "fKD00_b2SUxA"
      },
      "execution_count": 94,
      "outputs": []
    },
    {
      "cell_type": "code",
      "source": [
        "# Evaluate the model on the training set.\n",
        "# The Mean Absolute Error:\n",
        "mae_training = mean_absolute_error(output_train, predictions_svr_r)\n",
        "print(\"The training MAE is: \", round(mae_training, 2), \"\\n\")\n",
        "# The Root Mean Squared Error:\n",
        "scores = cross_val_score(regressor_rbf, input_train, output_train, scoring = \"neg_mean_squared_error\", cv=10)\n",
        "rmse_scores = np.sqrt(-scores)\n",
        "# Let's look at the results:\n",
        "def display_scores(scores):\n",
        "    print(\"Scores RMSE: \", scores)\n",
        "    print(\"Standard deviation: \", scores.std(), \"\\n\")\n",
        "    print(\"Mean RMSE is: \", round(scores.mean(), 2))\n",
        "    \n",
        "\n",
        "display_scores(rmse_scores)"
      ],
      "metadata": {
        "colab": {
          "base_uri": "https://localhost:8080/"
        },
        "id": "Y_Eg6z2ZSdKX",
        "outputId": "8523d770-255e-47df-bbd4-a13266f0a99e"
      },
      "execution_count": 95,
      "outputs": [
        {
          "output_type": "stream",
          "name": "stdout",
          "text": [
            "The training MAE is:  0.09 \n",
            "\n",
            "Scores RMSE:  [0.21991073 0.17131496 0.1580901  0.32496973 0.1814094  0.16502927\n",
            " 0.41999116 0.13791165 0.18816222 0.13328967]\n",
            "Standard deviation:  0.08717889593176742 \n",
            "\n",
            "Mean RMSE is:  0.21\n"
          ]
        }
      ]
    },
    {
      "cell_type": "markdown",
      "source": [
        "The Random forest regressor and the support vector regressor have the MAE and RMSE values"
      ],
      "metadata": {
        "id": "BKgwNxADSoKp"
      }
    },
    {
      "cell_type": "markdown",
      "source": [
        "Fine-Tuning the models\n",
        "\n",
        "---\n",
        "1. Random Forest\n"
      ],
      "metadata": {
        "id": "HZ3Moo8FS8rh"
      }
    },
    {
      "cell_type": "code",
      "source": [
        "# Using 'GridSearchCV' to find the best hyperparameters for the model:\n",
        "from sklearn.model_selection import GridSearchCV\n",
        "\n",
        "parameters = {\n",
        "    \"n_estimators\" : [3, 6, 9],\n",
        "    \"max_depth\" : [1, 2, 3, 4],\n",
        "}\n",
        " \n",
        "clf = GridSearchCV(forest_reg, parameters)\n",
        "clf.fit(input_train, output_train) "
      ],
      "metadata": {
        "colab": {
          "base_uri": "https://localhost:8080/",
          "height": 117
        },
        "id": "lexLkth5SfAY",
        "outputId": "d15c7b3f-5949-42c1-e0b0-f42a1a7d6a66"
      },
      "execution_count": 96,
      "outputs": [
        {
          "output_type": "execute_result",
          "data": {
            "text/plain": [
              "GridSearchCV(estimator=RandomForestRegressor(),\n",
              "             param_grid={'max_depth': [1, 2, 3, 4], 'n_estimators': [3, 6, 9]})"
            ],
            "text/html": [
              "<style>#sk-container-id-1 {color: black;background-color: white;}#sk-container-id-1 pre{padding: 0;}#sk-container-id-1 div.sk-toggleable {background-color: white;}#sk-container-id-1 label.sk-toggleable__label {cursor: pointer;display: block;width: 100%;margin-bottom: 0;padding: 0.3em;box-sizing: border-box;text-align: center;}#sk-container-id-1 label.sk-toggleable__label-arrow:before {content: \"▸\";float: left;margin-right: 0.25em;color: #696969;}#sk-container-id-1 label.sk-toggleable__label-arrow:hover:before {color: black;}#sk-container-id-1 div.sk-estimator:hover label.sk-toggleable__label-arrow:before {color: black;}#sk-container-id-1 div.sk-toggleable__content {max-height: 0;max-width: 0;overflow: hidden;text-align: left;background-color: #f0f8ff;}#sk-container-id-1 div.sk-toggleable__content pre {margin: 0.2em;color: black;border-radius: 0.25em;background-color: #f0f8ff;}#sk-container-id-1 input.sk-toggleable__control:checked~div.sk-toggleable__content {max-height: 200px;max-width: 100%;overflow: auto;}#sk-container-id-1 input.sk-toggleable__control:checked~label.sk-toggleable__label-arrow:before {content: \"▾\";}#sk-container-id-1 div.sk-estimator input.sk-toggleable__control:checked~label.sk-toggleable__label {background-color: #d4ebff;}#sk-container-id-1 div.sk-label input.sk-toggleable__control:checked~label.sk-toggleable__label {background-color: #d4ebff;}#sk-container-id-1 input.sk-hidden--visually {border: 0;clip: rect(1px 1px 1px 1px);clip: rect(1px, 1px, 1px, 1px);height: 1px;margin: -1px;overflow: hidden;padding: 0;position: absolute;width: 1px;}#sk-container-id-1 div.sk-estimator {font-family: monospace;background-color: #f0f8ff;border: 1px dotted black;border-radius: 0.25em;box-sizing: border-box;margin-bottom: 0.5em;}#sk-container-id-1 div.sk-estimator:hover {background-color: #d4ebff;}#sk-container-id-1 div.sk-parallel-item::after {content: \"\";width: 100%;border-bottom: 1px solid gray;flex-grow: 1;}#sk-container-id-1 div.sk-label:hover label.sk-toggleable__label {background-color: #d4ebff;}#sk-container-id-1 div.sk-serial::before {content: \"\";position: absolute;border-left: 1px solid gray;box-sizing: border-box;top: 0;bottom: 0;left: 50%;z-index: 0;}#sk-container-id-1 div.sk-serial {display: flex;flex-direction: column;align-items: center;background-color: white;padding-right: 0.2em;padding-left: 0.2em;position: relative;}#sk-container-id-1 div.sk-item {position: relative;z-index: 1;}#sk-container-id-1 div.sk-parallel {display: flex;align-items: stretch;justify-content: center;background-color: white;position: relative;}#sk-container-id-1 div.sk-item::before, #sk-container-id-1 div.sk-parallel-item::before {content: \"\";position: absolute;border-left: 1px solid gray;box-sizing: border-box;top: 0;bottom: 0;left: 50%;z-index: -1;}#sk-container-id-1 div.sk-parallel-item {display: flex;flex-direction: column;z-index: 1;position: relative;background-color: white;}#sk-container-id-1 div.sk-parallel-item:first-child::after {align-self: flex-end;width: 50%;}#sk-container-id-1 div.sk-parallel-item:last-child::after {align-self: flex-start;width: 50%;}#sk-container-id-1 div.sk-parallel-item:only-child::after {width: 0;}#sk-container-id-1 div.sk-dashed-wrapped {border: 1px dashed gray;margin: 0 0.4em 0.5em 0.4em;box-sizing: border-box;padding-bottom: 0.4em;background-color: white;}#sk-container-id-1 div.sk-label label {font-family: monospace;font-weight: bold;display: inline-block;line-height: 1.2em;}#sk-container-id-1 div.sk-label-container {text-align: center;}#sk-container-id-1 div.sk-container {/* jupyter's `normalize.less` sets `[hidden] { display: none; }` but bootstrap.min.css set `[hidden] { display: none !important; }` so we also need the `!important` here to be able to override the default hidden behavior on the sphinx rendered scikit-learn.org. See: https://github.com/scikit-learn/scikit-learn/issues/21755 */display: inline-block !important;position: relative;}#sk-container-id-1 div.sk-text-repr-fallback {display: none;}</style><div id=\"sk-container-id-1\" class=\"sk-top-container\"><div class=\"sk-text-repr-fallback\"><pre>GridSearchCV(estimator=RandomForestRegressor(),\n",
              "             param_grid={&#x27;max_depth&#x27;: [1, 2, 3, 4], &#x27;n_estimators&#x27;: [3, 6, 9]})</pre><b>In a Jupyter environment, please rerun this cell to show the HTML representation or trust the notebook. <br />On GitHub, the HTML representation is unable to render, please try loading this page with nbviewer.org.</b></div><div class=\"sk-container\" hidden><div class=\"sk-item sk-dashed-wrapped\"><div class=\"sk-label-container\"><div class=\"sk-label sk-toggleable\"><input class=\"sk-toggleable__control sk-hidden--visually\" id=\"sk-estimator-id-1\" type=\"checkbox\" ><label for=\"sk-estimator-id-1\" class=\"sk-toggleable__label sk-toggleable__label-arrow\">GridSearchCV</label><div class=\"sk-toggleable__content\"><pre>GridSearchCV(estimator=RandomForestRegressor(),\n",
              "             param_grid={&#x27;max_depth&#x27;: [1, 2, 3, 4], &#x27;n_estimators&#x27;: [3, 6, 9]})</pre></div></div></div><div class=\"sk-parallel\"><div class=\"sk-parallel-item\"><div class=\"sk-item\"><div class=\"sk-label-container\"><div class=\"sk-label sk-toggleable\"><input class=\"sk-toggleable__control sk-hidden--visually\" id=\"sk-estimator-id-2\" type=\"checkbox\" ><label for=\"sk-estimator-id-2\" class=\"sk-toggleable__label sk-toggleable__label-arrow\">estimator: RandomForestRegressor</label><div class=\"sk-toggleable__content\"><pre>RandomForestRegressor()</pre></div></div></div><div class=\"sk-serial\"><div class=\"sk-item\"><div class=\"sk-estimator sk-toggleable\"><input class=\"sk-toggleable__control sk-hidden--visually\" id=\"sk-estimator-id-3\" type=\"checkbox\" ><label for=\"sk-estimator-id-3\" class=\"sk-toggleable__label sk-toggleable__label-arrow\">RandomForestRegressor</label><div class=\"sk-toggleable__content\"><pre>RandomForestRegressor()</pre></div></div></div></div></div></div></div></div></div></div>"
            ]
          },
          "metadata": {},
          "execution_count": 96
        }
      ]
    },
    {
      "cell_type": "code",
      "source": [
        "# Make predictions using best hyperparameters:\n",
        "y_pred_train = clf.predict(input_train)\n",
        "\n",
        "# Evaluate model performance using MAE and RMSE:\n",
        "mae_training = mean_absolute_error(output_train, y_pred_train)\n",
        "print(\"The training MAE is: \", round(mae_training, 2), \"\\n\")\n",
        "# The Root Mean Squared Error:\n",
        "rmse_training = np.sqrt(mean_squared_error(output_train, y_pred_train))\n",
        "print(\"The training RMSE is: \", round(rmse_training), 2)"
      ],
      "metadata": {
        "colab": {
          "base_uri": "https://localhost:8080/"
        },
        "id": "7uOmt4s0TFP_",
        "outputId": "002e4c41-734e-448b-bd8e-0ffc547a7c3e"
      },
      "execution_count": 97,
      "outputs": [
        {
          "output_type": "stream",
          "name": "stdout",
          "text": [
            "The training MAE is:  0.08 \n",
            "\n",
            "The training RMSE is:  0 2\n"
          ]
        }
      ]
    },
    {
      "cell_type": "markdown",
      "source": [
        "2. Support Vector machines"
      ],
      "metadata": {
        "id": "l_veAVocTIB2"
      }
    },
    {
      "cell_type": "code",
      "source": [
        "# Using 'GridSearchCV' to find the best hyperparameters for the model:\n",
        "parameters = {\n",
        "    \"gamma\": [1e-7, 1e-4],\n",
        "    \"C\": [0.25, 0.5, 1],\n",
        "    \"epsilon\": [0.25, 0.5, 1],\n",
        "}\n",
        "\n",
        "clf = GridSearchCV(regressor_rbf, parameters)\n",
        "clf.fit(input_train, output_train)"
      ],
      "metadata": {
        "colab": {
          "base_uri": "https://localhost:8080/",
          "height": 117
        },
        "id": "YZ3SLIJOTHov",
        "outputId": "c9fb59f6-3ff1-4d98-cad2-c08d70ccdcac"
      },
      "execution_count": 98,
      "outputs": [
        {
          "output_type": "execute_result",
          "data": {
            "text/plain": [
              "GridSearchCV(estimator=SVR(),\n",
              "             param_grid={'C': [0.25, 0.5, 1], 'epsilon': [0.25, 0.5, 1],\n",
              "                         'gamma': [1e-07, 0.0001]})"
            ],
            "text/html": [
              "<style>#sk-container-id-2 {color: black;background-color: white;}#sk-container-id-2 pre{padding: 0;}#sk-container-id-2 div.sk-toggleable {background-color: white;}#sk-container-id-2 label.sk-toggleable__label {cursor: pointer;display: block;width: 100%;margin-bottom: 0;padding: 0.3em;box-sizing: border-box;text-align: center;}#sk-container-id-2 label.sk-toggleable__label-arrow:before {content: \"▸\";float: left;margin-right: 0.25em;color: #696969;}#sk-container-id-2 label.sk-toggleable__label-arrow:hover:before {color: black;}#sk-container-id-2 div.sk-estimator:hover label.sk-toggleable__label-arrow:before {color: black;}#sk-container-id-2 div.sk-toggleable__content {max-height: 0;max-width: 0;overflow: hidden;text-align: left;background-color: #f0f8ff;}#sk-container-id-2 div.sk-toggleable__content pre {margin: 0.2em;color: black;border-radius: 0.25em;background-color: #f0f8ff;}#sk-container-id-2 input.sk-toggleable__control:checked~div.sk-toggleable__content {max-height: 200px;max-width: 100%;overflow: auto;}#sk-container-id-2 input.sk-toggleable__control:checked~label.sk-toggleable__label-arrow:before {content: \"▾\";}#sk-container-id-2 div.sk-estimator input.sk-toggleable__control:checked~label.sk-toggleable__label {background-color: #d4ebff;}#sk-container-id-2 div.sk-label input.sk-toggleable__control:checked~label.sk-toggleable__label {background-color: #d4ebff;}#sk-container-id-2 input.sk-hidden--visually {border: 0;clip: rect(1px 1px 1px 1px);clip: rect(1px, 1px, 1px, 1px);height: 1px;margin: -1px;overflow: hidden;padding: 0;position: absolute;width: 1px;}#sk-container-id-2 div.sk-estimator {font-family: monospace;background-color: #f0f8ff;border: 1px dotted black;border-radius: 0.25em;box-sizing: border-box;margin-bottom: 0.5em;}#sk-container-id-2 div.sk-estimator:hover {background-color: #d4ebff;}#sk-container-id-2 div.sk-parallel-item::after {content: \"\";width: 100%;border-bottom: 1px solid gray;flex-grow: 1;}#sk-container-id-2 div.sk-label:hover label.sk-toggleable__label {background-color: #d4ebff;}#sk-container-id-2 div.sk-serial::before {content: \"\";position: absolute;border-left: 1px solid gray;box-sizing: border-box;top: 0;bottom: 0;left: 50%;z-index: 0;}#sk-container-id-2 div.sk-serial {display: flex;flex-direction: column;align-items: center;background-color: white;padding-right: 0.2em;padding-left: 0.2em;position: relative;}#sk-container-id-2 div.sk-item {position: relative;z-index: 1;}#sk-container-id-2 div.sk-parallel {display: flex;align-items: stretch;justify-content: center;background-color: white;position: relative;}#sk-container-id-2 div.sk-item::before, #sk-container-id-2 div.sk-parallel-item::before {content: \"\";position: absolute;border-left: 1px solid gray;box-sizing: border-box;top: 0;bottom: 0;left: 50%;z-index: -1;}#sk-container-id-2 div.sk-parallel-item {display: flex;flex-direction: column;z-index: 1;position: relative;background-color: white;}#sk-container-id-2 div.sk-parallel-item:first-child::after {align-self: flex-end;width: 50%;}#sk-container-id-2 div.sk-parallel-item:last-child::after {align-self: flex-start;width: 50%;}#sk-container-id-2 div.sk-parallel-item:only-child::after {width: 0;}#sk-container-id-2 div.sk-dashed-wrapped {border: 1px dashed gray;margin: 0 0.4em 0.5em 0.4em;box-sizing: border-box;padding-bottom: 0.4em;background-color: white;}#sk-container-id-2 div.sk-label label {font-family: monospace;font-weight: bold;display: inline-block;line-height: 1.2em;}#sk-container-id-2 div.sk-label-container {text-align: center;}#sk-container-id-2 div.sk-container {/* jupyter's `normalize.less` sets `[hidden] { display: none; }` but bootstrap.min.css set `[hidden] { display: none !important; }` so we also need the `!important` here to be able to override the default hidden behavior on the sphinx rendered scikit-learn.org. See: https://github.com/scikit-learn/scikit-learn/issues/21755 */display: inline-block !important;position: relative;}#sk-container-id-2 div.sk-text-repr-fallback {display: none;}</style><div id=\"sk-container-id-2\" class=\"sk-top-container\"><div class=\"sk-text-repr-fallback\"><pre>GridSearchCV(estimator=SVR(),\n",
              "             param_grid={&#x27;C&#x27;: [0.25, 0.5, 1], &#x27;epsilon&#x27;: [0.25, 0.5, 1],\n",
              "                         &#x27;gamma&#x27;: [1e-07, 0.0001]})</pre><b>In a Jupyter environment, please rerun this cell to show the HTML representation or trust the notebook. <br />On GitHub, the HTML representation is unable to render, please try loading this page with nbviewer.org.</b></div><div class=\"sk-container\" hidden><div class=\"sk-item sk-dashed-wrapped\"><div class=\"sk-label-container\"><div class=\"sk-label sk-toggleable\"><input class=\"sk-toggleable__control sk-hidden--visually\" id=\"sk-estimator-id-4\" type=\"checkbox\" ><label for=\"sk-estimator-id-4\" class=\"sk-toggleable__label sk-toggleable__label-arrow\">GridSearchCV</label><div class=\"sk-toggleable__content\"><pre>GridSearchCV(estimator=SVR(),\n",
              "             param_grid={&#x27;C&#x27;: [0.25, 0.5, 1], &#x27;epsilon&#x27;: [0.25, 0.5, 1],\n",
              "                         &#x27;gamma&#x27;: [1e-07, 0.0001]})</pre></div></div></div><div class=\"sk-parallel\"><div class=\"sk-parallel-item\"><div class=\"sk-item\"><div class=\"sk-label-container\"><div class=\"sk-label sk-toggleable\"><input class=\"sk-toggleable__control sk-hidden--visually\" id=\"sk-estimator-id-5\" type=\"checkbox\" ><label for=\"sk-estimator-id-5\" class=\"sk-toggleable__label sk-toggleable__label-arrow\">estimator: SVR</label><div class=\"sk-toggleable__content\"><pre>SVR()</pre></div></div></div><div class=\"sk-serial\"><div class=\"sk-item\"><div class=\"sk-estimator sk-toggleable\"><input class=\"sk-toggleable__control sk-hidden--visually\" id=\"sk-estimator-id-6\" type=\"checkbox\" ><label for=\"sk-estimator-id-6\" class=\"sk-toggleable__label sk-toggleable__label-arrow\">SVR</label><div class=\"sk-toggleable__content\"><pre>SVR()</pre></div></div></div></div></div></div></div></div></div></div>"
            ]
          },
          "metadata": {},
          "execution_count": 98
        }
      ]
    },
    {
      "cell_type": "code",
      "source": [
        "# Make predictions using best hyperparameters:\n",
        "y_pred_train = clf.predict(input_train)\n",
        "\n",
        "# Evaluate model performance using MAE and RMSE:\n",
        "mae_training = mean_absolute_error(output_train, y_pred_train)\n",
        "print(\"The training MAE is: \", round(mae_training, 2), \"\\n\")\n",
        "# The Root Mean Squared Error:\n",
        "rmse_training = np.sqrt(mean_squared_error(output_train, y_pred_train))\n",
        "print(\"The training RMSE is: \", round(rmse_training), 2)"
      ],
      "metadata": {
        "colab": {
          "base_uri": "https://localhost:8080/"
        },
        "id": "vZBsX6UzTPM7",
        "outputId": "ce0abbff-4020-4871-dbd3-62147c4eef45"
      },
      "execution_count": 99,
      "outputs": [
        {
          "output_type": "stream",
          "name": "stdout",
          "text": [
            "The training MAE is:  0.25 \n",
            "\n",
            "The training RMSE is:  0 2\n"
          ]
        }
      ]
    },
    {
      "cell_type": "code",
      "source": [
        "from sklearn.metrics import mean_squared_error\n",
        "from sklearn.ensemble import GradientBoostingRegressor\n",
        "\n",
        "est = GradientBoostingRegressor(n_estimators=100, learning_rate=0.1, max_depth=1, random_state=0,loss='squared_error').fit(input_train,output_train)\n",
        "mean_squared_error(output_test, est.predict(input_test))"
      ],
      "metadata": {
        "colab": {
          "base_uri": "https://localhost:8080/"
        },
        "id": "SJgrGKGwIFwd",
        "outputId": "e8d3edaa-f05d-45ea-8c7f-d859ede36336"
      },
      "execution_count": 137,
      "outputs": [
        {
          "output_type": "execute_result",
          "data": {
            "text/plain": [
              "0.05714380134233923"
            ]
          },
          "metadata": {},
          "execution_count": 137
        }
      ]
    },
    {
      "cell_type": "code",
      "source": [
        "from sklearn.ensemble import GradientBoostingRegressor\n",
        "from sklearn.ensemble import StackingRegressor\n",
        "from sklearn.linear_model import RidgeCV, LassoCV\n",
        "from sklearn.neighbors import KNeighborsRegressor\n",
        "estimators = [('ridge', RidgeCV()),('lasso', LassoCV(random_state=42)),('knr', KNeighborsRegressor(n_neighbors=20, metric='euclidean'))]\n",
        "final_estimator = GradientBoostingRegressor(n_estimators=25, subsample=0.5, min_samples_leaf=25, max_features=1,random_state=42)\n",
        "reg = StackingRegressor(estimators=estimators,final_estimator=final_estimator)\n",
        "reg.fit(input_train,output_train)"
      ],
      "metadata": {
        "colab": {
          "base_uri": "https://localhost:8080/",
          "height": 1000
        },
        "id": "BWALGoZDMID_",
        "outputId": "06746bda-9e28-4709-c253-90a08b516645"
      },
      "execution_count": 139,
      "outputs": [
        {
          "output_type": "stream",
          "name": "stderr",
          "text": [
            "/usr/local/lib/python3.9/dist-packages/sklearn/linear_model/_coordinate_descent.py:617: ConvergenceWarning: Objective did not converge. You might want to increase the number of iterations. Duality gap: 0.005959382832372739, tolerance: 0.005732880058139533\n",
            "  model = cd_fast.enet_coordinate_descent_gram(\n",
            "/usr/local/lib/python3.9/dist-packages/sklearn/linear_model/_coordinate_descent.py:617: ConvergenceWarning: Objective did not converge. You might want to increase the number of iterations. Duality gap: 0.005956522731985103, tolerance: 0.005732880058139533\n",
            "  model = cd_fast.enet_coordinate_descent_gram(\n",
            "/usr/local/lib/python3.9/dist-packages/sklearn/linear_model/_coordinate_descent.py:617: ConvergenceWarning: Objective did not converge. You might want to increase the number of iterations. Duality gap: 0.005914492303091379, tolerance: 0.00569928300387597\n",
            "  model = cd_fast.enet_coordinate_descent_gram(\n",
            "/usr/local/lib/python3.9/dist-packages/sklearn/linear_model/_coordinate_descent.py:617: ConvergenceWarning: Objective did not converge. You might want to increase the number of iterations. Duality gap: 0.0059431109576451036, tolerance: 0.00569928300387597\n",
            "  model = cd_fast.enet_coordinate_descent_gram(\n",
            "/usr/local/lib/python3.9/dist-packages/sklearn/linear_model/_coordinate_descent.py:617: ConvergenceWarning: Objective did not converge. You might want to increase the number of iterations. Duality gap: 0.005998307518147783, tolerance: 0.00569928300387597\n",
            "  model = cd_fast.enet_coordinate_descent_gram(\n",
            "/usr/local/lib/python3.9/dist-packages/sklearn/linear_model/_coordinate_descent.py:617: ConvergenceWarning: Objective did not converge. You might want to increase the number of iterations. Duality gap: 0.005995623908269465, tolerance: 0.00569928300387597\n",
            "  model = cd_fast.enet_coordinate_descent_gram(\n",
            "/usr/local/lib/python3.9/dist-packages/sklearn/linear_model/_coordinate_descent.py:617: ConvergenceWarning: Objective did not converge. You might want to increase the number of iterations. Duality gap: 0.005952375480823946, tolerance: 0.00569928300387597\n",
            "  model = cd_fast.enet_coordinate_descent_gram(\n",
            "/usr/local/lib/python3.9/dist-packages/sklearn/linear_model/_coordinate_descent.py:617: ConvergenceWarning: Objective did not converge. You might want to increase the number of iterations. Duality gap: 0.00588102316865502, tolerance: 0.00569928300387597\n",
            "  model = cd_fast.enet_coordinate_descent_gram(\n",
            "/usr/local/lib/python3.9/dist-packages/sklearn/linear_model/_coordinate_descent.py:617: ConvergenceWarning: Objective did not converge. You might want to increase the number of iterations. Duality gap: 0.005790769655519057, tolerance: 0.00569928300387597\n",
            "  model = cd_fast.enet_coordinate_descent_gram(\n",
            "/usr/local/lib/python3.9/dist-packages/sklearn/linear_model/_coordinate_descent.py:617: ConvergenceWarning: Objective did not converge. You might want to increase the number of iterations. Duality gap: 0.004795891314429923, tolerance: 0.004032242480620154\n",
            "  model = cd_fast.enet_coordinate_descent_gram(\n",
            "/usr/local/lib/python3.9/dist-packages/sklearn/linear_model/_coordinate_descent.py:617: ConvergenceWarning: Objective did not converge. You might want to increase the number of iterations. Duality gap: 0.012348156718331893, tolerance: 0.004032242480620154\n",
            "  model = cd_fast.enet_coordinate_descent_gram(\n",
            "/usr/local/lib/python3.9/dist-packages/sklearn/linear_model/_coordinate_descent.py:617: ConvergenceWarning: Objective did not converge. You might want to increase the number of iterations. Duality gap: 0.08859742126136894, tolerance: 0.004032242480620154\n",
            "  model = cd_fast.enet_coordinate_descent_gram(\n",
            "/usr/local/lib/python3.9/dist-packages/sklearn/linear_model/_coordinate_descent.py:617: ConvergenceWarning: Objective did not converge. You might want to increase the number of iterations. Duality gap: 0.17772724042170296, tolerance: 0.004032242480620154\n",
            "  model = cd_fast.enet_coordinate_descent_gram(\n",
            "/usr/local/lib/python3.9/dist-packages/sklearn/linear_model/_coordinate_descent.py:617: ConvergenceWarning: Objective did not converge. You might want to increase the number of iterations. Duality gap: 0.055292912892308976, tolerance: 0.0039476548062015475\n",
            "  model = cd_fast.enet_coordinate_descent_gram(\n",
            "/usr/local/lib/python3.9/dist-packages/sklearn/linear_model/_coordinate_descent.py:617: ConvergenceWarning: Objective did not converge. You might want to increase the number of iterations. Duality gap: 0.1539503745406101, tolerance: 0.0039476548062015475\n",
            "  model = cd_fast.enet_coordinate_descent_gram(\n",
            "/usr/local/lib/python3.9/dist-packages/sklearn/linear_model/_coordinate_descent.py:617: ConvergenceWarning: Objective did not converge. You might want to increase the number of iterations. Duality gap: 0.24804467021481713, tolerance: 0.0039476548062015475\n",
            "  model = cd_fast.enet_coordinate_descent_gram(\n",
            "/usr/local/lib/python3.9/dist-packages/sklearn/linear_model/_coordinate_descent.py:617: ConvergenceWarning: Objective did not converge. You might want to increase the number of iterations. Duality gap: 0.32578140483603946, tolerance: 0.0039476548062015475\n",
            "  model = cd_fast.enet_coordinate_descent_gram(\n",
            "/usr/local/lib/python3.9/dist-packages/sklearn/linear_model/_coordinate_descent.py:617: ConvergenceWarning: Objective did not converge. You might want to increase the number of iterations. Duality gap: 0.3864143153949904, tolerance: 0.0039476548062015475\n",
            "  model = cd_fast.enet_coordinate_descent_gram(\n",
            "/usr/local/lib/python3.9/dist-packages/sklearn/linear_model/_coordinate_descent.py:617: ConvergenceWarning: Objective did not converge. You might want to increase the number of iterations. Duality gap: 0.0027828889579595284, tolerance: 0.0026621671899224814\n",
            "  model = cd_fast.enet_coordinate_descent_gram(\n",
            "/usr/local/lib/python3.9/dist-packages/sklearn/linear_model/_coordinate_descent.py:617: ConvergenceWarning: Objective did not converge. You might want to increase the number of iterations. Duality gap: 0.006545208795024848, tolerance: 0.004150373720930233\n",
            "  model = cd_fast.enet_coordinate_descent_gram(\n",
            "/usr/local/lib/python3.9/dist-packages/sklearn/linear_model/_coordinate_descent.py:617: ConvergenceWarning: Objective did not converge. You might want to increase the number of iterations. Duality gap: 0.006880455895121429, tolerance: 0.004150373720930233\n",
            "  model = cd_fast.enet_coordinate_descent_gram(\n",
            "/usr/local/lib/python3.9/dist-packages/sklearn/linear_model/_coordinate_descent.py:617: ConvergenceWarning: Objective did not converge. You might want to increase the number of iterations. Duality gap: 0.006854412796837295, tolerance: 0.004150373720930233\n",
            "  model = cd_fast.enet_coordinate_descent_gram(\n",
            "/usr/local/lib/python3.9/dist-packages/sklearn/linear_model/_coordinate_descent.py:617: ConvergenceWarning: Objective did not converge. You might want to increase the number of iterations. Duality gap: 0.006775062490333994, tolerance: 0.004150373720930233\n",
            "  model = cd_fast.enet_coordinate_descent_gram(\n",
            "/usr/local/lib/python3.9/dist-packages/sklearn/linear_model/_coordinate_descent.py:617: ConvergenceWarning: Objective did not converge. You might want to increase the number of iterations. Duality gap: 0.04070858259869681, tolerance: 0.004150373720930233\n",
            "  model = cd_fast.enet_coordinate_descent_gram(\n",
            "/usr/local/lib/python3.9/dist-packages/sklearn/linear_model/_coordinate_descent.py:617: ConvergenceWarning: Objective did not converge. You might want to increase the number of iterations. Duality gap: 0.004948160036278182, tolerance: 0.004147755096899225\n",
            "  model = cd_fast.enet_coordinate_descent_gram(\n",
            "/usr/local/lib/python3.9/dist-packages/sklearn/linear_model/_coordinate_descent.py:631: ConvergenceWarning: Objective did not converge. You might want to increase the number of iterations, check the scale of the features or consider increasing regularisation. Duality gap: 7.124e-02, tolerance: 4.736e-03\n",
            "  model = cd_fast.enet_coordinate_descent(\n",
            "/usr/local/lib/python3.9/dist-packages/sklearn/linear_model/_coordinate_descent.py:617: ConvergenceWarning: Objective did not converge. You might want to increase the number of iterations. Duality gap: 0.00820056034835659, tolerance: 0.005651129515503879\n",
            "  model = cd_fast.enet_coordinate_descent_gram(\n",
            "/usr/local/lib/python3.9/dist-packages/sklearn/linear_model/_coordinate_descent.py:617: ConvergenceWarning: Objective did not converge. You might want to increase the number of iterations. Duality gap: 0.010195528225452222, tolerance: 0.005651129515503879\n",
            "  model = cd_fast.enet_coordinate_descent_gram(\n",
            "/usr/local/lib/python3.9/dist-packages/sklearn/linear_model/_coordinate_descent.py:617: ConvergenceWarning: Objective did not converge. You might want to increase the number of iterations. Duality gap: 0.011720433476710923, tolerance: 0.005651129515503879\n",
            "  model = cd_fast.enet_coordinate_descent_gram(\n",
            "/usr/local/lib/python3.9/dist-packages/sklearn/linear_model/_coordinate_descent.py:617: ConvergenceWarning: Objective did not converge. You might want to increase the number of iterations. Duality gap: 0.012845573782428232, tolerance: 0.005651129515503879\n",
            "  model = cd_fast.enet_coordinate_descent_gram(\n",
            "/usr/local/lib/python3.9/dist-packages/sklearn/linear_model/_coordinate_descent.py:617: ConvergenceWarning: Objective did not converge. You might want to increase the number of iterations. Duality gap: 0.013650837707430696, tolerance: 0.005651129515503879\n",
            "  model = cd_fast.enet_coordinate_descent_gram(\n",
            "/usr/local/lib/python3.9/dist-packages/sklearn/linear_model/_coordinate_descent.py:617: ConvergenceWarning: Objective did not converge. You might want to increase the number of iterations. Duality gap: 0.014210128468583605, tolerance: 0.005651129515503879\n",
            "  model = cd_fast.enet_coordinate_descent_gram(\n",
            "/usr/local/lib/python3.9/dist-packages/sklearn/linear_model/_coordinate_descent.py:617: ConvergenceWarning: Objective did not converge. You might want to increase the number of iterations. Duality gap: 0.01458514081930673, tolerance: 0.005651129515503879\n",
            "  model = cd_fast.enet_coordinate_descent_gram(\n",
            "/usr/local/lib/python3.9/dist-packages/sklearn/linear_model/_coordinate_descent.py:617: ConvergenceWarning: Objective did not converge. You might want to increase the number of iterations. Duality gap: 0.014824656451139617, tolerance: 0.005651129515503879\n",
            "  model = cd_fast.enet_coordinate_descent_gram(\n",
            "/usr/local/lib/python3.9/dist-packages/sklearn/linear_model/_coordinate_descent.py:617: ConvergenceWarning: Objective did not converge. You might want to increase the number of iterations. Duality gap: 0.014966028524611374, tolerance: 0.005651129515503879\n",
            "  model = cd_fast.enet_coordinate_descent_gram(\n"
          ]
        },
        {
          "output_type": "execute_result",
          "data": {
            "text/plain": [
              "StackingRegressor(estimators=[('ridge', RidgeCV()),\n",
              "                              ('lasso', LassoCV(random_state=42)),\n",
              "                              ('knr',\n",
              "                               KNeighborsRegressor(metric='euclidean',\n",
              "                                                   n_neighbors=20))],\n",
              "                  final_estimator=GradientBoostingRegressor(max_features=1,\n",
              "                                                            min_samples_leaf=25,\n",
              "                                                            n_estimators=25,\n",
              "                                                            random_state=42,\n",
              "                                                            subsample=0.5))"
            ],
            "text/html": [
              "<style>#sk-container-id-3 {color: black;background-color: white;}#sk-container-id-3 pre{padding: 0;}#sk-container-id-3 div.sk-toggleable {background-color: white;}#sk-container-id-3 label.sk-toggleable__label {cursor: pointer;display: block;width: 100%;margin-bottom: 0;padding: 0.3em;box-sizing: border-box;text-align: center;}#sk-container-id-3 label.sk-toggleable__label-arrow:before {content: \"▸\";float: left;margin-right: 0.25em;color: #696969;}#sk-container-id-3 label.sk-toggleable__label-arrow:hover:before {color: black;}#sk-container-id-3 div.sk-estimator:hover label.sk-toggleable__label-arrow:before {color: black;}#sk-container-id-3 div.sk-toggleable__content {max-height: 0;max-width: 0;overflow: hidden;text-align: left;background-color: #f0f8ff;}#sk-container-id-3 div.sk-toggleable__content pre {margin: 0.2em;color: black;border-radius: 0.25em;background-color: #f0f8ff;}#sk-container-id-3 input.sk-toggleable__control:checked~div.sk-toggleable__content {max-height: 200px;max-width: 100%;overflow: auto;}#sk-container-id-3 input.sk-toggleable__control:checked~label.sk-toggleable__label-arrow:before {content: \"▾\";}#sk-container-id-3 div.sk-estimator input.sk-toggleable__control:checked~label.sk-toggleable__label {background-color: #d4ebff;}#sk-container-id-3 div.sk-label input.sk-toggleable__control:checked~label.sk-toggleable__label {background-color: #d4ebff;}#sk-container-id-3 input.sk-hidden--visually {border: 0;clip: rect(1px 1px 1px 1px);clip: rect(1px, 1px, 1px, 1px);height: 1px;margin: -1px;overflow: hidden;padding: 0;position: absolute;width: 1px;}#sk-container-id-3 div.sk-estimator {font-family: monospace;background-color: #f0f8ff;border: 1px dotted black;border-radius: 0.25em;box-sizing: border-box;margin-bottom: 0.5em;}#sk-container-id-3 div.sk-estimator:hover {background-color: #d4ebff;}#sk-container-id-3 div.sk-parallel-item::after {content: \"\";width: 100%;border-bottom: 1px solid gray;flex-grow: 1;}#sk-container-id-3 div.sk-label:hover label.sk-toggleable__label {background-color: #d4ebff;}#sk-container-id-3 div.sk-serial::before {content: \"\";position: absolute;border-left: 1px solid gray;box-sizing: border-box;top: 0;bottom: 0;left: 50%;z-index: 0;}#sk-container-id-3 div.sk-serial {display: flex;flex-direction: column;align-items: center;background-color: white;padding-right: 0.2em;padding-left: 0.2em;position: relative;}#sk-container-id-3 div.sk-item {position: relative;z-index: 1;}#sk-container-id-3 div.sk-parallel {display: flex;align-items: stretch;justify-content: center;background-color: white;position: relative;}#sk-container-id-3 div.sk-item::before, #sk-container-id-3 div.sk-parallel-item::before {content: \"\";position: absolute;border-left: 1px solid gray;box-sizing: border-box;top: 0;bottom: 0;left: 50%;z-index: -1;}#sk-container-id-3 div.sk-parallel-item {display: flex;flex-direction: column;z-index: 1;position: relative;background-color: white;}#sk-container-id-3 div.sk-parallel-item:first-child::after {align-self: flex-end;width: 50%;}#sk-container-id-3 div.sk-parallel-item:last-child::after {align-self: flex-start;width: 50%;}#sk-container-id-3 div.sk-parallel-item:only-child::after {width: 0;}#sk-container-id-3 div.sk-dashed-wrapped {border: 1px dashed gray;margin: 0 0.4em 0.5em 0.4em;box-sizing: border-box;padding-bottom: 0.4em;background-color: white;}#sk-container-id-3 div.sk-label label {font-family: monospace;font-weight: bold;display: inline-block;line-height: 1.2em;}#sk-container-id-3 div.sk-label-container {text-align: center;}#sk-container-id-3 div.sk-container {/* jupyter's `normalize.less` sets `[hidden] { display: none; }` but bootstrap.min.css set `[hidden] { display: none !important; }` so we also need the `!important` here to be able to override the default hidden behavior on the sphinx rendered scikit-learn.org. See: https://github.com/scikit-learn/scikit-learn/issues/21755 */display: inline-block !important;position: relative;}#sk-container-id-3 div.sk-text-repr-fallback {display: none;}</style><div id=\"sk-container-id-3\" class=\"sk-top-container\"><div class=\"sk-text-repr-fallback\"><pre>StackingRegressor(estimators=[(&#x27;ridge&#x27;, RidgeCV()),\n",
              "                              (&#x27;lasso&#x27;, LassoCV(random_state=42)),\n",
              "                              (&#x27;knr&#x27;,\n",
              "                               KNeighborsRegressor(metric=&#x27;euclidean&#x27;,\n",
              "                                                   n_neighbors=20))],\n",
              "                  final_estimator=GradientBoostingRegressor(max_features=1,\n",
              "                                                            min_samples_leaf=25,\n",
              "                                                            n_estimators=25,\n",
              "                                                            random_state=42,\n",
              "                                                            subsample=0.5))</pre><b>In a Jupyter environment, please rerun this cell to show the HTML representation or trust the notebook. <br />On GitHub, the HTML representation is unable to render, please try loading this page with nbviewer.org.</b></div><div class=\"sk-container\" hidden><div class=\"sk-item sk-dashed-wrapped\"><div class=\"sk-label-container\"><div class=\"sk-label sk-toggleable\"><input class=\"sk-toggleable__control sk-hidden--visually\" id=\"sk-estimator-id-7\" type=\"checkbox\" ><label for=\"sk-estimator-id-7\" class=\"sk-toggleable__label sk-toggleable__label-arrow\">StackingRegressor</label><div class=\"sk-toggleable__content\"><pre>StackingRegressor(estimators=[(&#x27;ridge&#x27;, RidgeCV()),\n",
              "                              (&#x27;lasso&#x27;, LassoCV(random_state=42)),\n",
              "                              (&#x27;knr&#x27;,\n",
              "                               KNeighborsRegressor(metric=&#x27;euclidean&#x27;,\n",
              "                                                   n_neighbors=20))],\n",
              "                  final_estimator=GradientBoostingRegressor(max_features=1,\n",
              "                                                            min_samples_leaf=25,\n",
              "                                                            n_estimators=25,\n",
              "                                                            random_state=42,\n",
              "                                                            subsample=0.5))</pre></div></div></div><div class=\"sk-serial\"><div class=\"sk-item\"><div class=\"sk-parallel\"><div class=\"sk-parallel-item\"><div class=\"sk-item\"><div class=\"sk-label-container\"><div class=\"sk-label sk-toggleable\"><label>ridge</label></div></div><div class=\"sk-serial\"><div class=\"sk-item\"><div class=\"sk-estimator sk-toggleable\"><input class=\"sk-toggleable__control sk-hidden--visually\" id=\"sk-estimator-id-8\" type=\"checkbox\" ><label for=\"sk-estimator-id-8\" class=\"sk-toggleable__label sk-toggleable__label-arrow\">RidgeCV</label><div class=\"sk-toggleable__content\"><pre>RidgeCV()</pre></div></div></div></div></div></div><div class=\"sk-parallel-item\"><div class=\"sk-item\"><div class=\"sk-label-container\"><div class=\"sk-label sk-toggleable\"><label>lasso</label></div></div><div class=\"sk-serial\"><div class=\"sk-item\"><div class=\"sk-estimator sk-toggleable\"><input class=\"sk-toggleable__control sk-hidden--visually\" id=\"sk-estimator-id-9\" type=\"checkbox\" ><label for=\"sk-estimator-id-9\" class=\"sk-toggleable__label sk-toggleable__label-arrow\">LassoCV</label><div class=\"sk-toggleable__content\"><pre>LassoCV(random_state=42)</pre></div></div></div></div></div></div><div class=\"sk-parallel-item\"><div class=\"sk-item\"><div class=\"sk-label-container\"><div class=\"sk-label sk-toggleable\"><label>knr</label></div></div><div class=\"sk-serial\"><div class=\"sk-item\"><div class=\"sk-estimator sk-toggleable\"><input class=\"sk-toggleable__control sk-hidden--visually\" id=\"sk-estimator-id-10\" type=\"checkbox\" ><label for=\"sk-estimator-id-10\" class=\"sk-toggleable__label sk-toggleable__label-arrow\">KNeighborsRegressor</label><div class=\"sk-toggleable__content\"><pre>KNeighborsRegressor(metric=&#x27;euclidean&#x27;, n_neighbors=20)</pre></div></div></div></div></div></div></div></div><div class=\"sk-item\"><div class=\"sk-parallel\"><div class=\"sk-parallel-item\"><div class=\"sk-item\"><div class=\"sk-label-container\"><div class=\"sk-label sk-toggleable\"><label>final_estimator</label></div></div><div class=\"sk-serial\"><div class=\"sk-item\"><div class=\"sk-estimator sk-toggleable\"><input class=\"sk-toggleable__control sk-hidden--visually\" id=\"sk-estimator-id-11\" type=\"checkbox\" ><label for=\"sk-estimator-id-11\" class=\"sk-toggleable__label sk-toggleable__label-arrow\">GradientBoostingRegressor</label><div class=\"sk-toggleable__content\"><pre>GradientBoostingRegressor(max_features=1, min_samples_leaf=25, n_estimators=25,\n",
              "                          random_state=42, subsample=0.5)</pre></div></div></div></div></div></div></div></div></div></div></div></div>"
            ]
          },
          "metadata": {},
          "execution_count": 139
        }
      ]
    },
    {
      "cell_type": "code",
      "source": [
        "from sklearn.metrics import mean_absolute_error\n",
        "y_pred = reg.predict(input_test)\n",
        "\n",
        "print('MAE {:.2f}'.format(mean_absolute_error(output_test, y_pred)))\n",
        "print(mean_squared_error(y_pred,output_test))"
      ],
      "metadata": {
        "colab": {
          "base_uri": "https://localhost:8080/"
        },
        "id": "9hRIHA8aOJhx",
        "outputId": "5451fe32-0348-41eb-c76e-00b4a468df87"
      },
      "execution_count": 146,
      "outputs": [
        {
          "output_type": "stream",
          "name": "stdout",
          "text": [
            "MAE 0.10\n",
            "0.07190175414036953\n"
          ]
        }
      ]
    },
    {
      "cell_type": "markdown",
      "source": [
        "Random Forest is giving the least error after hypertuning\n",
        "\n",
        "---\n",
        "\n",
        "Testing the model"
      ],
      "metadata": {
        "id": "KS5VIgq2TT_u"
      }
    },
    {
      "cell_type": "code",
      "source": [
        "# Make predictions\n",
        "y_pred = forest_reg.predict(input_test)\n",
        "\n",
        "# Evaluate model performance using MAE and RMSE:\n",
        "mae_test = mean_absolute_error(output_test, y_pred)\n",
        "print(\"The test MAE is: \", round(mae_test, 2), \"\\n\")\n",
        "# The Root Mean Squared Error:\n",
        "rmse_test = np.sqrt(mean_squared_error(output_test, y_pred))\n",
        "print(\"The test RMSE is: \", round(rmse_test), 2)"
      ],
      "metadata": {
        "colab": {
          "base_uri": "https://localhost:8080/"
        },
        "id": "rj-691AhTiXc",
        "outputId": "f5874dfb-446f-433a-98d6-627197dffca8"
      },
      "execution_count": 148,
      "outputs": [
        {
          "output_type": "stream",
          "name": "stdout",
          "text": [
            "The test MAE is:  0.08 \n",
            "\n",
            "The test RMSE is:  0 2\n"
          ]
        }
      ]
    },
    {
      "cell_type": "markdown",
      "source": [
        "Finding the linear dependency equation"
      ],
      "metadata": {
        "id": "6Yxis0tHToeZ"
      }
    },
    {
      "cell_type": "code",
      "source": [
        "# Extract the intercept and coefficient from the linear model:\n",
        "intercept = model.intercept_.round(2)\n",
        "coefficients = model.coef_.round(2)\n",
        "# Get the feature names:\n",
        "feature_names = input_ds.columns\n",
        "print(\"features len: \", len(feature_names))\n",
        "print(feature_names)\n",
        "\n",
        "# Put together the coefficients and feature names into a Series:\n",
        "feature_imp = pd.Series(coefficients, index = feature_names)\n",
        "feature_imp.head(10)"
      ],
      "metadata": {
        "colab": {
          "base_uri": "https://localhost:8080/"
        },
        "id": "MVVAeqNNTjBk",
        "outputId": "77c94315-e74e-4257-ce0d-41fe88f50bf7"
      },
      "execution_count": 101,
      "outputs": [
        {
          "output_type": "stream",
          "name": "stdout",
          "text": [
            "features len:  14\n",
            "Index(['TempHighF', 'TempAvgF', 'TempLowF', 'DewPointAvgF',\n",
            "       'HumidityHighPercent', 'HumidityAvgPercent', 'HumidityLowPercent',\n",
            "       'SeaLevelPressureAvgInches', 'VisibilityHighMiles',\n",
            "       'VisibilityAvgMiles', 'VisibilityLowMiles', 'WindHighMPH', 'WindAvgMPH',\n",
            "       'WindGustMPH'],\n",
            "      dtype='object')\n"
          ]
        },
        {
          "output_type": "execute_result",
          "data": {
            "text/plain": [
              "TempHighF                    0.25\n",
              "TempAvgF                    -0.34\n",
              "TempLowF                     0.32\n",
              "DewPointAvgF                -0.22\n",
              "HumidityHighPercent          0.13\n",
              "HumidityAvgPercent          -0.25\n",
              "HumidityLowPercent           0.27\n",
              "SeaLevelPressureAvgInches   -0.00\n",
              "VisibilityHighMiles          0.03\n",
              "VisibilityAvgMiles          -0.11\n",
              "dtype: float64"
            ]
          },
          "metadata": {},
          "execution_count": 101
        }
      ]
    },
    {
      "cell_type": "code",
      "source": [
        "# Print the linear equation for the model:\n",
        "print(f\"Precipation Level  = {intercept.round(2)}\")\n",
        "for f, c in feature_imp.items():\n",
        "    print(f\"+ ({round(c, 2)} * {f})\")"
      ],
      "metadata": {
        "colab": {
          "base_uri": "https://localhost:8080/"
        },
        "id": "WDz9I-YrTmvF",
        "outputId": "7a3c1726-f8b7-4839-ddfe-05691ff54587"
      },
      "execution_count": 102,
      "outputs": [
        {
          "output_type": "stream",
          "name": "stdout",
          "text": [
            "Precipation Level  = 0.09\n",
            "+ (0.25 * TempHighF)\n",
            "+ (-0.34 * TempAvgF)\n",
            "+ (0.32 * TempLowF)\n",
            "+ (-0.22 * DewPointAvgF)\n",
            "+ (0.13 * HumidityHighPercent)\n",
            "+ (-0.25 * HumidityAvgPercent)\n",
            "+ (0.27 * HumidityLowPercent)\n",
            "+ (-0.0 * SeaLevelPressureAvgInches)\n",
            "+ (0.03 * VisibilityHighMiles)\n",
            "+ (-0.11 * VisibilityAvgMiles)\n",
            "+ (-0.02 * VisibilityLowMiles)\n",
            "+ (0.08 * WindHighMPH)\n",
            "+ (-0.07 * WindAvgMPH)\n",
            "+ (0.03 * WindGustMPH)\n"
          ]
        }
      ]
    },
    {
      "cell_type": "markdown",
      "source": [
        "Feature Importance Plot"
      ],
      "metadata": {
        "id": "rzvjtUtLTuUr"
      }
    },
    {
      "cell_type": "code",
      "source": [
        "# Use a horizontal bar chart to show the top coefficients for my model, based on their absolute value\n",
        "\n",
        "# Sort the coefficients in decending order:\n",
        "feature_imp.sort_values()\n",
        "# Sort them according to their absolute value:\n",
        "feature_imp.sort_values(key=abs).tail(14).plot(kind=\"barh\")\n",
        "plt.xlabel(\"Importance [Inches]\")\n",
        "plt.ylabel(\"Feature\")\n",
        "plt.title(\"Feature Importance of Precipitation Amount\");"
      ],
      "metadata": {
        "colab": {
          "base_uri": "https://localhost:8080/",
          "height": 295
        },
        "id": "KWkf8J-nTnUx",
        "outputId": "7235595e-6782-4522-af77-fab66385b77e"
      },
      "execution_count": 103,
      "outputs": [
        {
          "output_type": "display_data",
          "data": {
            "text/plain": [
              "<Figure size 432x288 with 1 Axes>"
            ],
            "image/png": "[encoded data removed]"
          },
          "metadata": {
            "needs_background": "light"
          }
        }
      ]
    },
    {
      "cell_type": "markdown",
      "source": [
        "Model Predictions"
      ],
      "metadata": {
        "id": "3_aVw06bTzsI"
      }
    },
    {
      "cell_type": "code",
      "source": [
        "# Create a DataFrame to hold the true values of the test set and the model's predictions:\n",
        "predictions = pd.DataFrame (\n",
        "    zip(output_test, y_pred, output_test - y_pred),\n",
        "    columns = [\"y_test\", \"y_pred\", \"error\"]\n",
        ")\n",
        "\n",
        "predictions.head(10)"
      ],
      "metadata": {
        "colab": {
          "base_uri": "https://localhost:8080/",
          "height": 363
        },
        "id": "m9NeGul6TzeJ",
        "outputId": "715147d3-e9eb-4480-8897-b1ea3303bf16"
      },
      "execution_count": 104,
      "outputs": [
        {
          "output_type": "execute_result",
          "data": {
            "text/plain": [
              "   y_test  y_pred   error\n",
              "0    0.00  0.0035 -0.0035\n",
              "1    0.00  0.0000  0.0000\n",
              "2    0.00  0.0126 -0.0126\n",
              "3    0.00  0.0000  0.0000\n",
              "4    0.13  0.0011  0.1289\n",
              "5    0.00  0.0030 -0.0030\n",
              "6    1.19  0.8526  0.3374\n",
              "7    0.00  0.0000  0.0000\n",
              "8    0.00  0.0115 -0.0115\n",
              "9    0.11  0.1721 -0.0621"
            ],
            "text/html": [
              "\n",
              "  <div id=\"df-0bdc933f-afcb-48f4-8851-ca259fa5341d\">\n",
              "    <div class=\"colab-df-container\">\n",
              "      <div>\n",
              "<style scoped>\n",
              "    .dataframe tbody tr th:only-of-type {\n",
              "        vertical-align: middle;\n",
              "    }\n",
              "\n",
              "    .dataframe tbody tr th {\n",
              "        vertical-align: top;\n",
              "    }\n",
              "\n",
              "    .dataframe thead th {\n",
              "        text-align: right;\n",
              "    }\n",
              "</style>\n",
              "<table border=\"1\" class=\"dataframe\">\n",
              "  <thead>\n",
              "    <tr style=\"text-align: right;\">\n",
              "      <th></th>\n",
              "      <th>y_test</th>\n",
              "      <th>y_pred</th>\n",
              "      <th>error</th>\n",
              "    </tr>\n",
              "  </thead>\n",
              "  <tbody>\n",
              "    <tr>\n",
              "      <th>0</th>\n",
              "      <td>0.00</td>\n",
              "      <td>0.0035</td>\n",
              "      <td>-0.0035</td>\n",
              "    </tr>\n",
              "    <tr>\n",
              "      <th>1</th>\n",
              "      <td>0.00</td>\n",
              "      <td>0.0000</td>\n",
              "      <td>0.0000</td>\n",
              "    </tr>\n",
              "    <tr>\n",
              "      <th>2</th>\n",
              "      <td>0.00</td>\n",
              "      <td>0.0126</td>\n",
              "      <td>-0.0126</td>\n",
              "    </tr>\n",
              "    <tr>\n",
              "      <th>3</th>\n",
              "      <td>0.00</td>\n",
              "      <td>0.0000</td>\n",
              "      <td>0.0000</td>\n",
              "    </tr>\n",
              "    <tr>\n",
              "      <th>4</th>\n",
              "      <td>0.13</td>\n",
              "      <td>0.0011</td>\n",
              "      <td>0.1289</td>\n",
              "    </tr>\n",
              "    <tr>\n",
              "      <th>5</th>\n",
              "      <td>0.00</td>\n",
              "      <td>0.0030</td>\n",
              "      <td>-0.0030</td>\n",
              "    </tr>\n",
              "    <tr>\n",
              "      <th>6</th>\n",
              "      <td>1.19</td>\n",
              "      <td>0.8526</td>\n",
              "      <td>0.3374</td>\n",
              "    </tr>\n",
              "    <tr>\n",
              "      <th>7</th>\n",
              "      <td>0.00</td>\n",
              "      <td>0.0000</td>\n",
              "      <td>0.0000</td>\n",
              "    </tr>\n",
              "    <tr>\n",
              "      <th>8</th>\n",
              "      <td>0.00</td>\n",
              "      <td>0.0115</td>\n",
              "      <td>-0.0115</td>\n",
              "    </tr>\n",
              "    <tr>\n",
              "      <th>9</th>\n",
              "      <td>0.11</td>\n",
              "      <td>0.1721</td>\n",
              "      <td>-0.0621</td>\n",
              "    </tr>\n",
              "  </tbody>\n",
              "</table>\n",
              "</div>\n",
              "      <button class=\"colab-df-convert\" onclick=\"convertToInteractive('df-0bdc933f-afcb-48f4-8851-ca259fa5341d')\"\n",
              "              title=\"Convert this dataframe to an interactive table.\"\n",
              "              style=\"display:none;\">\n",
              "        \n",
              "  <svg xmlns=\"http://www.w3.org/2000/svg\" height=\"24px\"viewBox=\"0 0 24 24\"\n",
              "       width=\"24px\">\n",
              "    <path d=\"M0 0h24v24H0V0z\" fill=\"none\"/>\n",
              "    <path d=\"M18.56 5.44l.94 2.06.94-2.06 2.06-.94-2.06-.94-.94-2.06-.94 2.06-2.06.94zm-11 1L8.5 8.5l.94-2.06 2.06-.94-2.06-.94L8.5 2.5l-.94 2.06-2.06.94zm10 10l.94 2.06.94-2.06 2.06-.94-2.06-.94-.94-2.06-.94 2.06-2.06.94z\"/><path d=\"M17.41 7.96l-1.37-1.37c-.4-.4-.92-.59-1.43-.59-.52 0-1.04.2-1.43.59L10.3 9.45l-7.72 7.72c-.78.78-.78 2.05 0 2.83L4 21.41c.39.39.9.59 1.41.59.51 0 1.02-.2 1.41-.59l7.78-7.78 2.81-2.81c.8-.78.8-2.07 0-2.86zM5.41 20L4 18.59l7.72-7.72 1.47 1.35L5.41 20z\"/>\n",
              "  </svg>\n",
              "      </button>\n",
              "      \n",
              "  <style>\n",
              "    .colab-df-container {\n",
              "      display:flex;\n",
              "      flex-wrap:wrap;\n",
              "      gap: 12px;\n",
              "    }\n",
              "\n",
              "    .colab-df-convert {\n",
              "      background-color: #E8F0FE;\n",
              "      border: none;\n",
              "      border-radius: 50%;\n",
              "      cursor: pointer;\n",
              "      display: none;\n",
              "      fill: #1967D2;\n",
              "      height: 32px;\n",
              "      padding: 0 0 0 0;\n",
              "      width: 32px;\n",
              "    }\n",
              "\n",
              "    .colab-df-convert:hover {\n",
              "      background-color: #E2EBFA;\n",
              "      box-shadow: 0px 1px 2px rgba(60, 64, 67, 0.3), 0px 1px 3px 1px rgba(60, 64, 67, 0.15);\n",
              "      fill: #174EA6;\n",
              "    }\n",
              "\n",
              "    [theme=dark] .colab-df-convert {\n",
              "      background-color: #3B4455;\n",
              "      fill: #D2E3FC;\n",
              "    }\n",
              "\n",
              "    [theme=dark] .colab-df-convert:hover {\n",
              "      background-color: #434B5C;\n",
              "      box-shadow: 0px 1px 3px 1px rgba(0, 0, 0, 0.15);\n",
              "      filter: drop-shadow(0px 1px 2px rgba(0, 0, 0, 0.3));\n",
              "      fill: #FFFFFF;\n",
              "    }\n",
              "  </style>\n",
              "\n",
              "      <script>\n",
              "        const buttonEl =\n",
              "          document.querySelector('#df-0bdc933f-afcb-48f4-8851-ca259fa5341d button.colab-df-convert');\n",
              "        buttonEl.style.display =\n",
              "          google.colab.kernel.accessAllowed ? 'block' : 'none';\n",
              "\n",
              "        async function convertToInteractive(key) {\n",
              "          const element = document.querySelector('#df-0bdc933f-afcb-48f4-8851-ca259fa5341d');\n",
              "          const dataTable =\n",
              "            await google.colab.kernel.invokeFunction('convertToInteractive',\n",
              "                                                     [key], {});\n",
              "          if (!dataTable) return;\n",
              "\n",
              "          const docLinkHtml = 'Like what you see? Visit the ' +\n",
              "            '<a target=\"_blank\" href=https://colab.research.google.com/notebooks/data_table.ipynb>data table notebook</a>'\n",
              "            + ' to learn more about interactive tables.';\n",
              "          element.innerHTML = '';\n",
              "          dataTable['output_type'] = 'display_data';\n",
              "          await google.colab.output.renderOutput(dataTable, element);\n",
              "          const docLink = document.createElement('div');\n",
              "          docLink.innerHTML = docLinkHtml;\n",
              "          element.appendChild(docLink);\n",
              "        }\n",
              "      </script>\n",
              "    </div>\n",
              "  </div>\n",
              "  "
            ]
          },
          "metadata": {},
          "execution_count": 104
        }
      ]
    },
    {
      "cell_type": "code",
      "source": [
        "# Create a Line plot to visualize model results:\n",
        "\n",
        "plt.figure(figsize = (10, 10))\n",
        "x = np.linspace(0, 2, 2)\n",
        "plt.plot(predictions[\"y_test\"], predictions[\"y_pred\"], 'b.')\n",
        "plt.plot(x, x, 'r-')\n",
        "plt.xlim(0, 2)\n",
        "plt.ylim(0, 2)\n",
        "plt.title(\"Model Predictions\", fontsize=16)\n",
        "plt.xlabel(\"Actual Value\", fontsize=14)\n",
        "plt.ylabel(\"Predicted Value\", fontsize=14)\n",
        "plt.savefig(\"Rainfall Predictions.png\")\n",
        "plt.show();"
      ],
      "metadata": {
        "colab": {
          "base_uri": "https://localhost:8080/",
          "height": 627
        },
        "id": "GsW1rKxIT5hO",
        "outputId": "6545291c-76b9-4aea-8845-765727e8a5b8"
      },
      "execution_count": 105,
      "outputs": [
        {
          "output_type": "display_data",
          "data": {
            "text/plain": [
              "<Figure size 720x720 with 1 Axes>"
            ],
            "image/png": "[encoded data removed]"
          },
          "metadata": {
            "needs_background": "light"
          }
        }
      ]
    }
  ]
}